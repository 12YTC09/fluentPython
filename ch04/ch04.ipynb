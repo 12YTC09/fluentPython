{
 "cells": [
  {
   "cell_type": "code",
   "execution_count": 12,
   "metadata": {},
   "outputs": [
    {
     "data": {
      "text/plain": [
       "b'cafe'"
      ]
     },
     "execution_count": 12,
     "metadata": {},
     "output_type": "execute_result"
    }
   ],
   "source": [
    "qqqqqqqqqqqqq#編碼與解碼\n",
    "\n",
    "s ='cafe'\n",
    "len(s)\n",
    "\n",
    "b = s.encode('utf8')\n",
    "b\n",
    "#len(b)\n",
    "b.decode('utf8')\n",
    "b\n"
   ]
  },
  {
   "cell_type": "code",
   "execution_count": 28,
   "metadata": {},
   "outputs": [
    {
     "data": {
      "text/plain": [
       "b'1K\\xce\\xa9'"
      ]
     },
     "execution_count": 28,
     "metadata": {},
     "output_type": "execute_result"
    }
   ],
   "source": [
    "cafe = bytes('café',encoding='utf-8')\n",
    "cafe\n",
    "cafe[0]\n",
    "cafe[:1]\n",
    "cafe_arr = bytearray(cafe)\n",
    "cafe_arr\n",
    "cafe_arr[-1:]\n",
    "\n",
    "bytes.fromhex('31 4B CE A9')\n"
   ]
  },
  {
   "cell_type": "code",
   "execution_count": 30,
   "metadata": {},
   "outputs": [
    {
     "data": {
      "text/plain": [
       "bytes"
      ]
     },
     "execution_count": 30,
     "metadata": {},
     "output_type": "execute_result"
    }
   ],
   "source": [
    "#4-3 以陣列的原始資料來初始化位元組\n",
    "import array\n",
    "numbers = array.array('h',[-2,-1,0,1,2])\n",
    "octets = bytes(numbers)\n",
    "octets\n",
    "type(octets)"
   ]
  },
  {
   "cell_type": "code",
   "execution_count": 11,
   "metadata": {},
   "outputs": [
    {
     "name": "stdout",
     "output_type": "stream",
     "text": [
      "<memory at 0x7f72707c07c8>\n"
     ]
    }
   ],
   "source": [
    "#4-4 使用memoryview 與struct 來檢視GIF圖像標頭\n",
    "import struct\n",
    "\n",
    "fmt = '<3s3sHH'\n",
    "with open('filter.gif','rb') as fp:\n",
    "    img = memoryview(fp.read())\n",
    "    \n",
    "header = img[:10]\n",
    "print(header)\n",
    "bytes(header)\n",
    "struct.unpack(fmt,header)\n",
    "\n",
    "del header\n",
    "del img"
   ]
  },
  {
   "cell_type": "code",
   "execution_count": 31,
   "metadata": {},
   "outputs": [
    {
     "name": "stdout",
     "output_type": "stream",
     "text": [
      "latin_1\tb'El Ni\\xf1o'\n",
      "utf-8\tb'El Ni\\xc3\\xb1o'\n",
      "utf-16\tb'\\xff\\xfeE\\x00l\\x00 \\x00N\\x00i\\x00\\xf1\\x00o\\x00'\n"
     ]
    },
    {
     "data": {
      "text/plain": [
       "b'S&#227;o Paulo'"
      ]
     },
     "execution_count": 31,
     "metadata": {},
     "output_type": "execute_result"
    }
   ],
   "source": [
    "#4-5 三種編碼器將字串 搜尋結果 El Niño編碼,產生相當不同的序列\n",
    "\n",
    "for codec in ['latin_1','utf-8','utf-16']:\n",
    "    print(codec,'El Niño'.encode(codec),sep='\\t')\n",
    "    \n",
    "\n",
    "#處理UnicodeEncodeError\n",
    "#4-6 編碼為位元組:處理成功與錯誤的狀態\n",
    "city = 'São Paulo'\n",
    "city.encode('utf_8')\n",
    "city.encode('utf_16')\n",
    "\n",
    "city.encode('iso8859_1')\n",
    "\n",
    "#city.encode('cp437')\n",
    "\n",
    "city.encode('cp437',errors='ignore')\n",
    "\n",
    "city.encode('cp437',errors='replace')\n",
    "\n",
    "city.encode('cp437',errors='xmlcharrefreplace')\n"
   ]
  },
  {
   "cell_type": "code",
   "execution_count": 36,
   "metadata": {},
   "outputs": [
    {
     "data": {
      "text/plain": [
       "'Montr�a1'"
      ]
     },
     "execution_count": 36,
     "metadata": {},
     "output_type": "execute_result"
    }
   ],
   "source": [
    "#4-7 將str解碼成byte: 成功與錯誤的處理方式\n",
    "\n",
    "octets = b'Montr\\xe9a1'\n",
    "\n",
    "octets.decode('cp1252')\n",
    "\n",
    "octets.decode('iso8859_7')\n",
    "\n",
    "octets.decode('koi8_r')\n",
    "\n",
    "#octets.decode('utf_8')\n",
    "\n",
    "octets.decode('utf_8',errors='replace')\n",
    "\n",
    "\n",
    "\n"
   ]
  },
  {
   "cell_type": "code",
   "execution_count": 46,
   "metadata": {},
   "outputs": [
    {
     "name": "stdout",
     "output_type": "stream",
     "text": [
      "Montréa1\n"
     ]
    }
   ],
   "source": [
    "#4-8 olp.py :葡萄牙文的\"Hello,world\"\n",
    "#coding: cp1252\n",
    "\n",
    "print(\"Olá,Mundo\")"
   ]
  },
  {
   "cell_type": "code",
   "execution_count": 7,
   "metadata": {},
   "outputs": [
    {
     "name": "stdout",
     "output_type": "stream",
     "text": [
      "b'E\\x00l\\x00 \\x00N\\x00i\\x00\\xf1\\x00o\\x00'\n"
     ]
    },
    {
     "data": {
      "text/plain": [
       "b'\\x00E\\x00l\\x00 \\x00N\\x00i\\x00\\xf1\\x00o'"
      ]
     },
     "execution_count": 7,
     "metadata": {},
     "output_type": "execute_result"
    }
   ],
   "source": [
    "u16 ='El Niño'.encode('utf16')\n",
    "u16\n",
    "\n",
    "list(u16)\n",
    "\n",
    "u16le = 'El Niño'.encode('utf_16le')\n",
    "print(u16le)\n",
    "\n",
    "u16be = 'El Niño'.encode('utf_16be')\n",
    "u16be\n",
    "\n"
   ]
  },
  {
   "cell_type": "code",
   "execution_count": 11,
   "metadata": {},
   "outputs": [
    {
     "data": {
      "text/plain": [
       "'cafè'"
      ]
     },
     "execution_count": 11,
     "metadata": {},
     "output_type": "execute_result"
    }
   ],
   "source": [
    "#4-9 與平台有闗的編碼問題\n",
    "\n",
    "open('cafe.txt','w',encoding='utf_8').write('cafè')\n",
    "\n",
    "open('cafe.txt').read()\n",
    "\n"
   ]
  },
  {
   "cell_type": "code",
   "execution_count": 25,
   "metadata": {},
   "outputs": [],
   "source": [
    "#4-10 進一步檢視在Windows 執行的範例4-9,展示其bug及修復方法\n",
    "\n",
    "fp  = open('cafe.txt','w',encoding='utf_8')\n",
    "\n",
    "fp\n",
    "\n",
    "fp.write('cafè')\n",
    "\n",
    "fp.close()\n",
    "\n",
    "import os\n",
    "\n",
    "os.stat('cafe.txt').st_size\n",
    "\n",
    "fp2 = open('cafe.txt')\n",
    "fp2\n",
    "\n",
    "#'rb'旗標會開啟一個供二進位模式讀取的檔案\n",
    "fp4 = open('cafe.txt','rb')\n",
    "fp4\n",
    "fp4.read()\n",
    "fp4.close()"
   ]
  },
  {
   "cell_type": "code",
   "execution_count": 30,
   "metadata": {},
   "outputs": [
    {
     "name": "stdout",
     "output_type": "stream",
     "text": [
      " locale.getpreferredencoding() -> 'UTF-8'\n",
      "                 type(my_file) -> <class '_io.TextIOWrapper'>\n",
      "              my_file.encoding -> 'UTF-8'\n",
      "           sys.stdout.isatty() -> False\n",
      "           sys.stdout.encoding -> 'UTF-8'\n",
      "            sys.stdin.isatty() -> False\n",
      "            sys.stdin.encoding -> 'UTF-8'\n",
      "           sys.stderr.isatty() -> False\n",
      "           sys.stderr.encoding -> 'UTF-8'\n",
      "      sys.getdefaultencoding() -> 'utf-8'\n",
      "   sys.getfilesystemencoding() -> 'utf-8'\n"
     ]
    }
   ],
   "source": [
    "import default_endings"
   ]
  }
 ],
 "metadata": {
  "kernelspec": {
   "display_name": "Python 3",
   "language": "python",
   "name": "python3"
  },
  "language_info": {
   "codemirror_mode": {
    "name": "ipython",
    "version": 3
   },
   "file_extension": ".py",
   "mimetype": "text/x-python",
   "name": "python",
   "nbconvert_exporter": "python",
   "pygments_lexer": "ipython3",
   "version": "3.6.10"
  }
 },
 "nbformat": 4,
 "nbformat_minor": 4
}
