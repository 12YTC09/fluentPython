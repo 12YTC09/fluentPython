{
 "cells": [
  {
   "cell_type": "code",
   "execution_count": 12,
   "metadata": {},
   "outputs": [
    {
     "data": {
      "text/plain": [
       "b'cafe'"
      ]
     },
     "execution_count": 12,
     "metadata": {},
     "output_type": "execute_result"
    }
   ],
   "source": [
    "qqqqqqqqqqqqq#編碼與解碼\n",
    "\n",
    "s ='cafe'\n",
    "len(s)\n",
    "\n",
    "b = s.encode('utf8')\n",
    "b\n",
    "#len(b)\n",
    "b.decode('utf8')\n",
    "b\n"
   ]
  },
  {
   "cell_type": "code",
   "execution_count": 28,
   "metadata": {},
   "outputs": [
    {
     "data": {
      "text/plain": [
       "b'1K\\xce\\xa9'"
      ]
     },
     "execution_count": 28,
     "metadata": {},
     "output_type": "execute_result"
    }
   ],
   "source": [
    "cafe = bytes('café',encoding='utf-8')\n",
    "cafe\n",
    "cafe[0]\n",
    "cafe[:1]\n",
    "cafe_arr = bytearray(cafe)\n",
    "cafe_arr\n",
    "cafe_arr[-1:]\n",
    "\n",
    "bytes.fromhex('31 4B CE A9')\n"
   ]
  },
  {
   "cell_type": "code",
   "execution_count": 30,
   "metadata": {},
   "outputs": [
    {
     "data": {
      "text/plain": [
       "bytes"
      ]
     },
     "execution_count": 30,
     "metadata": {},
     "output_type": "execute_result"
    }
   ],
   "source": [
    "#4-3 以陣列的原始資料來初始化位元組\n",
    "import array\n",
    "numbers = array.array('h',[-2,-1,0,1,2])\n",
    "octets = bytes(numbers)\n",
    "octets\n",
    "type(octets)"
   ]
  },
  {
   "cell_type": "code",
   "execution_count": 11,
   "metadata": {},
   "outputs": [
    {
     "name": "stdout",
     "output_type": "stream",
     "text": [
      "<memory at 0x7f72707c07c8>\n"
     ]
    }
   ],
   "source": [
    "#4-4 使用memoryview 與struct 來檢視GIF圖像標頭\n",
    "import struct\n",
    "\n",
    "fmt = '<3s3sHH'\n",
    "with open('filter.gif','rb') as fp:\n",
    "    img = memoryview(fp.read())\n",
    "    \n",
    "header = img[:10]\n",
    "print(header)\n",
    "bytes(header)\n",
    "struct.unpack(fmt,header)\n",
    "\n",
    "del header\n",
    "del img"
   ]
  },
  {
   "cell_type": "code",
   "execution_count": 31,
   "metadata": {},
   "outputs": [
    {
     "name": "stdout",
     "output_type": "stream",
     "text": [
      "latin_1\tb'El Ni\\xf1o'\n",
      "utf-8\tb'El Ni\\xc3\\xb1o'\n",
      "utf-16\tb'\\xff\\xfeE\\x00l\\x00 \\x00N\\x00i\\x00\\xf1\\x00o\\x00'\n"
     ]
    },
    {
     "data": {
      "text/plain": [
       "b'S&#227;o Paulo'"
      ]
     },
     "execution_count": 31,
     "metadata": {},
     "output_type": "execute_result"
    }
   ],
   "source": [
    "#4-5 三種編碼器將字串 搜尋結果 El Niño編碼,產生相當不同的序列\n",
    "\n",
    "for codec in ['latin_1','utf-8','utf-16']:\n",
    "    print(codec,'El Niño'.encode(codec),sep='\\t')\n",
    "    \n",
    "\n",
    "#處理UnicodeEncodeError\n",
    "#4-6 編碼為位元組:處理成功與錯誤的狀態\n",
    "city = 'São Paulo'\n",
    "city.encode('utf_8')\n",
    "city.encode('utf_16')\n",
    "\n",
    "city.encode('iso8859_1')\n",
    "\n",
    "#city.encode('cp437')\n",
    "\n",
    "city.encode('cp437',errors='ignore')\n",
    "\n",
    "city.encode('cp437',errors='replace')\n",
    "\n",
    "city.encode('cp437',errors='xmlcharrefreplace')\n"
   ]
  },
  {
   "cell_type": "code",
   "execution_count": 36,
   "metadata": {},
   "outputs": [
    {
     "data": {
      "text/plain": [
       "'Montr�a1'"
      ]
     },
     "execution_count": 36,
     "metadata": {},
     "output_type": "execute_result"
    }
   ],
   "source": [
    "#4-7 將str解碼成byte: 成功與錯誤的處理方式\n",
    "\n",
    "octets = b'Montr\\xe9a1'\n",
    "\n",
    "octets.decode('cp1252')\n",
    "\n",
    "octets.decode('iso8859_7')\n",
    "\n",
    "octets.decode('koi8_r')\n",
    "\n",
    "#octets.decode('utf_8')\n",
    "\n",
    "octets.decode('utf_8',errors='replace')\n",
    "\n",
    "\n",
    "\n"
   ]
  },
  {
   "cell_type": "code",
   "execution_count": 46,
   "metadata": {},
   "outputs": [
    {
     "name": "stdout",
     "output_type": "stream",
     "text": [
      "Montréa1\n"
     ]
    }
   ],
   "source": [
    "#4-8 olp.py :葡萄牙文的\"Hello,world\"\n",
    "#coding: cp1252\n",
    "\n",
    "print(\"Olá,Mundo\")"
   ]
  },
  {
   "cell_type": "code",
   "execution_count": 7,
   "metadata": {},
   "outputs": [
    {
     "name": "stdout",
     "output_type": "stream",
     "text": [
      "b'E\\x00l\\x00 \\x00N\\x00i\\x00\\xf1\\x00o\\x00'\n"
     ]
    },
    {
     "data": {
      "text/plain": [
       "b'\\x00E\\x00l\\x00 \\x00N\\x00i\\x00\\xf1\\x00o'"
      ]
     },
     "execution_count": 7,
     "metadata": {},
     "output_type": "execute_result"
    }
   ],
   "source": [
    "u16 ='El Niño'.encode('utf16')\n",
    "u16\n",
    "\n",
    "list(u16)\n",
    "\n",
    "u16le = 'El Niño'.encode('utf_16le')\n",
    "print(u16le)\n",
    "\n",
    "u16be = 'El Niño'.encode('utf_16be')\n",
    "u16be\n",
    "\n"
   ]
  },
  {
   "cell_type": "code",
   "execution_count": 11,
   "metadata": {},
   "outputs": [
    {
     "data": {
      "text/plain": [
       "'cafè'"
      ]
     },
     "execution_count": 11,
     "metadata": {},
     "output_type": "execute_result"
    }
   ],
   "source": [
    "#4-9 與平台有闗的編碼問題\n",
    "\n",
    "open('cafe.txt','w',encoding='utf_8').write('cafè')\n",
    "\n",
    "open('cafe.txt').read()\n",
    "\n"
   ]
  },
  {
   "cell_type": "code",
   "execution_count": 25,
   "metadata": {},
   "outputs": [],
   "source": [
    "#4-10 進一步檢視在Windows 執行的範例4-9,展示其bug及修復方法\n",
    "\n",
    "fp  = open('cafe.txt','w',encoding='utf_8')\n",
    "\n",
    "fp\n",
    "\n",
    "fp.write('cafè')\n",
    "\n",
    "fp.close()\n",
    "\n",
    "import os\n",
    "\n",
    "os.stat('cafe.txt').st_size\n",
    "\n",
    "fp2 = open('cafe.txt')\n",
    "fp2\n",
    "\n",
    "#'rb'旗標會開啟一個供二進位模式讀取的檔案\n",
    "fp4 = open('cafe.txt','rb')\n",
    "fp4\n",
    "fp4.read()\n",
    "fp4.close()"
   ]
  },
  {
   "cell_type": "code",
   "execution_count": 30,
   "metadata": {},
   "outputs": [
    {
     "name": "stdout",
     "output_type": "stream",
     "text": [
      " locale.getpreferredencoding() -> 'UTF-8'\n",
      "                 type(my_file) -> <class '_io.TextIOWrapper'>\n",
      "              my_file.encoding -> 'UTF-8'\n",
      "           sys.stdout.isatty() -> False\n",
      "           sys.stdout.encoding -> 'UTF-8'\n",
      "            sys.stdin.isatty() -> False\n",
      "            sys.stdin.encoding -> 'UTF-8'\n",
      "           sys.stderr.isatty() -> False\n",
      "           sys.stderr.encoding -> 'UTF-8'\n",
      "      sys.getdefaultencoding() -> 'utf-8'\n",
      "   sys.getfilesystemencoding() -> 'utf-8'\n"
     ]
    }
   ],
   "source": [
    "import default_endings"
   ]
  },
  {
   "cell_type": "code",
   "execution_count": 7,
   "metadata": {},
   "outputs": [
    {
     "name": "stdout",
     "output_type": "stream",
     "text": [
      "4 5\n"
     ]
    },
    {
     "data": {
      "text/plain": [
       "False"
      ]
     },
     "execution_count": 7,
     "metadata": {},
     "output_type": "execute_result"
    }
   ],
   "source": [
    "s1 = 'cafè'\n",
    "s1\n",
    "s2 = 'cafe\\u0301'\n",
    "s2\n",
    "print(len(s1),len(s2))\n",
    "\n",
    "len(s2) == len(s1)\n"
   ]
  },
  {
   "cell_type": "code",
   "execution_count": 65,
   "metadata": {},
   "outputs": [
    {
     "data": {
      "text/plain": [
       "True"
      ]
     },
     "execution_count": 65,
     "metadata": {},
     "output_type": "execute_result"
    }
   ],
   "source": [
    "#NFC(Normalization from C)\n",
    "\n",
    "#unicodedata : provide access to the Unicode Character Database\n",
    "from unicodedata import normalize,name\n",
    "\n",
    "s1 = 'cafè'\n",
    "s2 = 'cafe\\u0301'\n",
    "\n",
    "len(s1),len(s2)\n",
    "\n",
    "len(normalize('NFC',s1)),len(normalize('NFC',s2))\n",
    "#len(normalize('NFD',s1)),len(normalize('NFD',s2))\n",
    "a = normalize('NFC',s1)\n",
    "b =normalize('NFC',s2)\n",
    "len(a) == len(b)"
   ]
  },
  {
   "cell_type": "code",
   "execution_count": 14,
   "metadata": {},
   "outputs": [
    {
     "data": {
      "text/plain": [
       "False"
      ]
     },
     "execution_count": 14,
     "metadata": {},
     "output_type": "execute_result"
    }
   ],
   "source": [
    "from unicodedata import normalize,name\n",
    "\n",
    "ohm = '\\u2126'\n",
    "\n",
    "name(ohm)\n",
    "\n",
    "ohm_c = normalize('NFC',ohm)\n",
    "name(ohm_c)\n",
    "\n",
    "\n",
    "ohm == ohm_c\n",
    "\n",
    "\n",
    "\n"
   ]
  },
  {
   "cell_type": "code",
   "execution_count": 20,
   "metadata": {},
   "outputs": [
    {
     "data": {
      "text/plain": [
       "('GREEK SMALL LETTER MU', 'GREEK SMALL LETTER MU')"
      ]
     },
     "execution_count": 20,
     "metadata": {},
     "output_type": "execute_result"
    }
   ],
   "source": [
    "from unicodedata import normalize,name\n",
    "\n",
    "half = \"½\"\n",
    "\n",
    "normalize('NFKC',half)\n",
    "\n",
    "four_squared = '4²'\n",
    "\n",
    "normalize('NFKC',four_squared)\n",
    "\n",
    "micro = 'μ'\n",
    "micro_kc  = normalize('NFKC',micro)\n",
    "micro_kc\n",
    "\n",
    "#ord():以一個字符作為參數,返回對應的ASCII數值\n",
    "ord(micro),ord(micro_kc)\n",
    "\n",
    "\n",
    "name(micro),name(micro_kc)\n",
    "\n"
   ]
  },
  {
   "cell_type": "code",
   "execution_count": 43,
   "metadata": {},
   "outputs": [
    {
     "name": "stdout",
     "output_type": "stream",
     "text": [
      "Help on built-in function casefold:\n",
      "\n",
      "casefold(...) method of builtins.str instance\n",
      "    S.casefold() -> str\n",
      "    \n",
      "    Return a version of S suitable for caseless comparisons.\n",
      "\n"
     ]
    },
    {
     "data": {
      "text/plain": [
       "'ss'"
      ]
     },
     "execution_count": 43,
     "metadata": {},
     "output_type": "execute_result"
    }
   ],
   "source": [
    "micro = 'µ'\n",
    "\n",
    "name('µ')\n",
    "\n",
    "micro_cf = micro.casefold()\n",
    "micro_cf\n",
    "help(micro.casefold)\n",
    "\n",
    "name(micro_cf)\n",
    "micro,micro_cf\n",
    "\n",
    "eszett = 'ß'\n",
    "\n",
    "name( 'ß')\n",
    "\n",
    "eszett_cf = eszett.casefold()\n",
    "eszett_cf"
   ]
  },
  {
   "cell_type": "code",
   "execution_count": 77,
   "metadata": {},
   "outputs": [
    {
     "name": "stdout",
     "output_type": "stream",
     "text": [
      "False\n",
      "4 5\n",
      "4 4\n"
     ]
    },
    {
     "data": {
      "text/plain": [
       "True"
      ]
     },
     "execution_count": 77,
     "metadata": {},
     "output_type": "execute_result"
    }
   ],
   "source": [
    "from  normeq import nfc_equal,fold_equal\n",
    "\n",
    "s1 = 'cafè'\n",
    "s2 = 'cafe\\u0301'\n",
    "\n",
    "print(s1 ==s2)\n",
    "\n",
    "print(len(s1),len(s2))\n",
    "\n",
    "a = normalize('NFC',s1)\n",
    "b = normalize('NFC',s2)\n",
    "\n",
    "print(len(a),len(b))\n",
    "\n",
    "\n",
    "#print(normeq.nfc_equal(s1,s2))\n",
    "\n",
    "#normeq.nfc_equal('A','a')\n",
    "\n",
    "\n",
    "s3 = 'Straße'\n",
    "s4 = 'Strasse'\n",
    "\n",
    "\n",
    "s3 == s4\n",
    "\n",
    "nfc_equal(s3,s4)\n",
    "fold_equal(s3,s4)"
   ]
  },
  {
   "cell_type": "code",
   "execution_count": 53,
   "metadata": {},
   "outputs": [],
   "source": [
    "if False and False:\n",
    "    print(\"AAA\")\n",
    "    \n",
    "    "
   ]
  },
  {
   "cell_type": "code",
   "execution_count": 55,
   "metadata": {},
   "outputs": [
    {
     "name": "stdout",
     "output_type": "stream",
     "text": [
      "['“', 'H', 'e', 'r', 'r', ' ', 'V', 'o', 'ß', ':', ' ', '•', ' ', '½', ' ', 'c', 'u', 'p', ' ', 'o', 'f', ' ', 'Œ', 't', 'k', 'e', 'r', '™', ' ', 'c', 'a', 'f', 'f', 'e', ' ', 'l', 'a', 't', 't', 'e', ' ', '•', ' ', 'b', 'o', 'w', 'l', ' ', 'o', 'f', ' ', 'a', 'c', 'a', 'i', '.', '”']\n",
      "“Herr Voß: • ½ cup of Œtker™ caffe latte • bowl of acai.”\n",
      "a\n",
      "['a']\n",
      "0\n",
      "True\n",
      "c\n",
      "['a', 'c']\n",
      "0\n",
      "True\n",
      "̧\n",
      "continu\n",
      "a\n",
      "['a', 'c', 'a']\n",
      "0\n",
      "True\n",
      "i\n",
      "['a', 'c', 'a', 'i']\n",
      "0\n",
      "True\n",
      "́\n",
      "continu\n",
      "a\n",
      "['a', 'c', 'a', 'i', 'a']\n",
      "0\n",
      "True\n",
      ".\n",
      "['a', 'c', 'a', 'i', 'a', '.']\n",
      "0\n",
      "False\n",
      "”\n",
      "['a', 'c', 'a', 'i', 'a', '.', '”']\n",
      "0\n",
      "False\n",
      "acaia.”\n"
     ]
    }
   ],
   "source": [
    "#4-14 移除所有結合標記的函式(sanitize.py模組)\n",
    "\n",
    "import unicodedata\n",
    "import string\n",
    "\n",
    "def shave_marks(txt):\n",
    "    \"\"\"Remove alll diacritic marks\"\"\"\n",
    "    norm_txt = unicodedata.normalize('NFD',txt)\n",
    "    #print(norm_txt)\n",
    "    #\n",
    "    shaved = ''.join(c for c in norm_txt if not unicodedata.combining(c))\n",
    "    #print(shaved)\n",
    "    return unicodedata.normalize('NFC',shaved)\n",
    "def shave_marks_latin(txt):\n",
    "    \"\"\"Remove alll diacritic marks from Latin base characters\"\"\"\n",
    "    norm_txt = unicodedata.normalize('NFD',txt)\n",
    "    latin_base = False\n",
    "    keepers = []\n",
    "    for c in norm_txt:\n",
    "       print(c)\n",
    "       if unicodedata.combining(c) and latin_base:\n",
    "             print(\"continu\")\n",
    "             continue #忽略Latin基本字元的音調符號\n",
    "       keepers.append(c)\n",
    "       print(keepers)\n",
    "       print(unicodedata.combining(c))\n",
    "       if not unicodedata.combining(c):\n",
    "           latin_base = c in string.ascii_letters\n",
    "           print(latin_base)\n",
    "    shaved = ''.join(keepers)\n",
    "    return unicodedata.normalize('NFC',shaved)\n",
    "\n",
    "a = '“Herr Voß: • ½ cup of Œtker™ caffè latte • bowl of açaí.”'\n",
    "norm = unicodedata.normalize('NFD',a)\n",
    "norm\n",
    "\n",
    "b = [c for c in norm  ]#if not unicodedata.combining(c)]\n",
    "len(b)\n",
    "#print(b)\n",
    "d = [c for c in norm  if not unicodedata.combining(c)]\n",
    "print(d)\n",
    "#len(d)\n",
    "\n",
    "#''.join(c for c in norm  if not unicodedata.combining(c))\n",
    "\n",
    "#差集\n",
    "#set(b).difference(d)\n",
    "\n",
    "order = '“Herr Voß: • ½ cup of Œtker™ caffè latte • bowl of açaí.”'\n",
    "o = 'açaía.”'\n",
    "print(shave_marks(order))\n",
    "\n",
    "greek = 'Ζέφυρος, Zéfiro'\n",
    "\n",
    "#shave_marks(greek)\n",
    "\n",
    "print(shave_marks_latin(o))\n",
    "\n",
    "\n",
    "\n"
   ]
  },
  {
   "cell_type": "code",
   "execution_count": null,
   "metadata": {},
   "outputs": [],
   "source": [
    "#4-17 將一些西方的印刷術符號轉換成ASCII(4-14的一部分)\n",
    "\n",
    "single_map = str.maketrans(\"\"\"‚ƒ„†ˆ‹‘’“”•–—˜›\"\"\",  # <1>\n",
    "                           \"\"\"'f\"*^<''\"\"---~>\"\"\")\n",
    "multi_map = str.maketrans({  # <2>\n",
    "    '€': '<euro>',\n",
    "    '…': '...',\n",
    "    'Œ': 'OE',\n",
    "    '™': '(TM)',\n",
    "    'œ': 'oe',\n",
    "    '‰': '<per mille>',\n",
    "    '‡': '**',\n",
    "})\n",
    "\n",
    "type(multi_map)\n",
    "\n",
    "#Update the dictionary with the key/value pairs from other\n",
    "multi_map.update(single_map)\n",
    "multi_map\n",
    "\n",
    "\n",
    "def dewinize(txt):\n",
    "    \"\"\"Replace Win1252 symbols with ASCII  chars or sequences\"\"\"\n",
    "    #Return a copy of the string in which each character \n",
    "    #has been mapped through the given translation table\n",
    "    return txt.translate(multi_map)\n",
    "\n",
    "\n",
    "\n",
    "\n",
    "def asciize(txt):\n",
    "    no_marks = shave_marks_latin('dewinize(txt)')\n",
    "    print(no_marks)\n",
    "    no_marks = no_marks.replace('ß','ss')\n",
    "    return unicodedata.normalize('NFKC',no_marks)\n",
    "\n",
    "order = '“Herr Voß: • ½ cup of Œtker™ caffè latte • bowl of açaí.”'\n",
    "\n",
    "dewinize(order)\n",
    "\n",
    "#asciize(order)\n",
    "shave_marks_latin(order)\n",
    "\n",
    "\n"
   ]
  },
  {
   "cell_type": "code",
   "execution_count": null,
   "metadata": {},
   "outputs": [],
   "source": []
  }
 ],
 "metadata": {
  "kernelspec": {
   "display_name": "Python 3",
   "language": "python",
   "name": "python3"
  },
  "language_info": {
   "codemirror_mode": {
    "name": "ipython",
    "version": 3
   },
   "file_extension": ".py",
   "mimetype": "text/x-python",
   "name": "python",
   "nbconvert_exporter": "python",
   "pygments_lexer": "ipython3",
   "version": "3.6.10"
  }
 },
 "nbformat": 4,
 "nbformat_minor": 4
}
