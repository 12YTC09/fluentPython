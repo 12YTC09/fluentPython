{
 "cells": [
  {
   "cell_type": "code",
   "execution_count": 1,
   "metadata": {},
   "outputs": [
    {
     "name": "stdout",
     "output_type": "stream",
     "text": [
      "2-1: [36, 38, 64, 33, 37, 42]\n",
      "2-2: [36, 38, 64, 33, 37, 42]\n"
     ]
    }
   ],
   "source": [
    "#2-1 用字串建構一個Unicode編碼位置串列\n",
    "symbols = '$&@!%*'\n",
    "codes = []\n",
    "for symbol in symbols:\n",
    "    codes.append(ord(symbol))\n",
    "\n",
    "print(\"2-1:\",codes)\n",
    "\n",
    "\n",
    "#2-2 用字串建構一個Unicode編碼位置串列，只用兩行程式\n",
    "symbols = '$&@!%*'\n",
    "codes = [ord(symbol) for symbol in symbols]\n",
    "print(\"2-2:\",codes)\n",
    "\n",
    "\"\"\"\n",
    "ord() 函数是 chr() 函数（对于8位的ASCII字符串或unichr()函数（对于Unicode对象）\n",
    "的配对函数，它以一个字符（长度为1的字符串）作为参数，返回对应的 ASCII 数值，\n",
    "或者 Unicode 数值，如果所给的 Unicode 字符超出了你的 Python 定义范围，\n",
    "则会引发一个 TypeError 的异常。\n",
    "\"\"\""
   ]
  },
  {
   "cell_type": "code",
   "execution_count": 5,
   "metadata": {},
   "outputs": [
    {
     "name": "stdout",
     "output_type": "stream",
     "text": [
      "[36, 38, 64, 33, 37, 42]\n"
     ]
    },
    {
     "data": {
      "text/plain": [
       "[36, 38, 64, 33, 37, 42]"
      ]
     },
     "execution_count": 5,
     "metadata": {},
     "output_type": "execute_result"
    }
   ],
   "source": [
    "#2-3listcomp與map/filter組合建構的同一串列\n",
    "symbols = '$&@!%*'\n",
    "beyond_ascii = [ord(s) for s in symbols if ord(s) > 27]\n",
    "print(beyond_ascii)\n",
    "\n",
    "beyond_ascii =list(filter(lambda c: c >27,map(ord,symbols)))\n",
    "print(beyond_ascii)\n",
    "\n",
    "\n"
   ]
  },
  {
   "cell_type": "code",
   "execution_count": 6,
   "metadata": {},
   "outputs": [
    {
     "name": "stdout",
     "output_type": "stream",
     "text": [
      "[('black', 'S'), ('black', 'M'), ('black', 'L'), ('white', 'S'), ('white', 'M'), ('white', 'L')]\n",
      "('black', 'S')\n",
      "('black', 'M')\n",
      "('black', 'L')\n",
      "('white', 'S')\n",
      "('white', 'M')\n",
      "('white', 'L')\n"
     ]
    },
    {
     "data": {
      "text/plain": [
       "[('black', 'S'),\n",
       " ('white', 'S'),\n",
       " ('black', 'M'),\n",
       " ('white', 'M'),\n",
       " ('black', 'L'),\n",
       " ('white', 'L')]"
      ]
     },
     "execution_count": 6,
     "metadata": {},
     "output_type": "execute_result"
    }
   ],
   "source": [
    "#2-4 使用串列生成式來作笛卡爾乘積\n",
    "colors = ['black','white']\n",
    "sizes = ['S','M','L']\n",
    "tshirts = [(color,size) for color in colors for size in sizes]\n",
    "print(tshirts)\n",
    "\n",
    "for color in colors:\n",
    "    for size in sizes:\n",
    "        print((color,size))\n",
    "        \n",
    "tshirts = [(color,size) for size in sizes for color in colors]\n",
    "tshirts"
   ]
  },
  {
   "cell_type": "code",
   "execution_count": 9,
   "metadata": {},
   "outputs": [
    {
     "name": "stdout",
     "output_type": "stream",
     "text": [
      "black S\n",
      "black M\n",
      "black L\n",
      "white S\n",
      "white M\n",
      "white L\n"
     ]
    }
   ],
   "source": [
    "#2-5 以產生器表達式來初始化tuple與陣列\n",
    "symbols = '$&@!%*'\n",
    "tuple(ord(symbol) for symbol in symbols)\n",
    "import array\n",
    "array.array('I',(ord(symbol)for symbol in symbols))\n",
    "\n",
    "for tshirt in ('%s %s'%(c,s) for c in colors for s in sizes):\n",
    "    print(tshirt)"
   ]
  }
 ],
 "metadata": {
  "kernelspec": {
   "display_name": "Python 3",
   "language": "python",
   "name": "python3"
  },
  "language_info": {
   "codemirror_mode": {
    "name": "ipython",
    "version": 3
   },
   "file_extension": ".py",
   "mimetype": "text/x-python",
   "name": "python",
   "nbconvert_exporter": "python",
   "pygments_lexer": "ipython3",
   "version": "3.6.10"
  }
 },
 "nbformat": 4,
 "nbformat_minor": 4
}
