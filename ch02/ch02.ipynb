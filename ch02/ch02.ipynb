{
 "cells": [
  {
   "cell_type": "code",
   "execution_count": 1,
   "metadata": {},
   "outputs": [
    {
     "name": "stdout",
     "output_type": "stream",
     "text": [
      "2-1: [36, 38, 64, 33, 37, 42]\n",
      "2-2: [36, 38, 64, 33, 37, 42]\n"
     ]
    }
   ],
   "source": [
    "#2-1 用字串建構一個Unicode編碼位置串列\n",
    "symbols = '$&@!%*'\n",
    "codes = []\n",
    "for symbol in symbols:\n",
    "    codes.append(ord(symbol))\n",
    "\n",
    "print(\"2-1:\",codes)\n",
    "\n",
    "\n",
    "#2-2 用字串建構一個Unicode編碼位置串列，只用兩行程式\n",
    "symbols = '$&@!%*'\n",
    "codes = [ord(symbol) for symbol in symbols]\n",
    "print(\"2-2:\",codes)\n",
    "\n",
    "\"\"\"\n",
    "ord() 函数是 chr() 函数（对于8位的ASCII字符串或unichr()函数（对于Unicode对象）\n",
    "的配对函数，它以一个字符（长度为1的字符串）作为参数，返回对应的 ASCII 数值，\n",
    "或者 Unicode 数值，如果所给的 Unicode 字符超出了你的 Python 定义范围，\n",
    "则会引发一个 TypeError 的异常。\n",
    "\"\"\""
   ]
  },
  {
   "cell_type": "code",
   "execution_count": 5,
   "metadata": {},
   "outputs": [
    {
     "name": "stdout",
     "output_type": "stream",
     "text": [
      "[36, 38, 64, 33, 37, 42]\n"
     ]
    },
    {
     "data": {
      "text/plain": [
       "[36, 38, 64, 33, 37, 42]"
      ]
     },
     "execution_count": 5,
     "metadata": {},
     "output_type": "execute_result"
    }
   ],
   "source": [
    "#2-3listcomp與map/filter組合建構的同一串列\n",
    "symbols = '$&@!%*'\n",
    "beyond_ascii = [ord(s) for s in symbols if ord(s) > 27]\n",
    "print(beyond_ascii)\n",
    "\n",
    "beyond_ascii =list(filter(lambda c: c >27,map(ord,symbols)))\n",
    "print(beyond_ascii)\n",
    "\n",
    "\n"
   ]
  },
  {
   "cell_type": "code",
   "execution_count": 6,
   "metadata": {},
   "outputs": [
    {
     "name": "stdout",
     "output_type": "stream",
     "text": [
      "[('black', 'S'), ('black', 'M'), ('black', 'L'), ('white', 'S'), ('white', 'M'), ('white', 'L')]\n",
      "('black', 'S')\n",
      "('black', 'M')\n",
      "('black', 'L')\n",
      "('white', 'S')\n",
      "('white', 'M')\n",
      "('white', 'L')\n"
     ]
    },
    {
     "data": {
      "text/plain": [
       "[('black', 'S'),\n",
       " ('white', 'S'),\n",
       " ('black', 'M'),\n",
       " ('white', 'M'),\n",
       " ('black', 'L'),\n",
       " ('white', 'L')]"
      ]
     },
     "execution_count": 6,
     "metadata": {},
     "output_type": "execute_result"
    }
   ],
   "source": [
    "#2-4 使用串列生成式來作笛卡爾乘積\n",
    "colors = ['black','white']\n",
    "sizes = ['S','M','L']\n",
    "tshirts = [(color,size) for color in colors for size in sizes]\n",
    "print(tshirts)\n",
    "\n",
    "for color in colors:\n",
    "    for size in sizes:\n",
    "        print((color,size))\n",
    "        \n",
    "tshirts = [(color,size) for size in sizes for color in colors]\n",
    "tshirts"
   ]
  },
  {
   "cell_type": "code",
   "execution_count": 9,
   "metadata": {},
   "outputs": [
    {
     "name": "stdout",
     "output_type": "stream",
     "text": [
      "black S\n",
      "black M\n",
      "black L\n",
      "white S\n",
      "white M\n",
      "white L\n",
      "BRA CE342567\n",
      "ESP XDA205856\n",
      "USA 31195855\n",
      "USA\n",
      "BRA\n",
      "ESP\n"
     ]
    }
   ],
   "source": [
    "#2-5 以產生器表達式來初始化tuple與陣列\n",
    "colors = ['black','white']\n",
    "sizes = ['S','M','L']\n",
    "symbols = '$&@!%*'\n",
    "tuple(ord(symbol) for symbol in symbols)\n",
    "import array\n",
    "array.array('I',(ord(symbol)for symbol in symbols))\n",
    "\n",
    "#2-6以產生氣做迪卡爾乘績\n",
    "for tshirt in ('%s %s'%(c,s) for c in colors for s in sizes):\n",
    "    print(tshirt)\n",
    "    \n",
    "#2-7將tuple當作紀錄\n",
    "lax_coordinates = (33.9425,-118.408056)\n",
    "city = ('Tokyo',2003,32450,0.66,8014)\n",
    "travel_id = [('USA','31195855'),('BRA','CE342567'),('ESP','XDA205856')]\n",
    "for passort in sorted(travel_id):\n",
    "    print('%s %s' %passort)\n",
    "    \n",
    "for country, _ in travel_id:\n",
    "    print(country)"
   ]
  },
  {
   "cell_type": "code",
   "execution_count": 18,
   "metadata": {},
   "outputs": [
    {
     "name": "stdout",
     "output_type": "stream",
     "text": [
      "33.9425 -118.408056\n"
     ]
    },
    {
     "data": {
      "text/plain": [
       "4"
      ]
     },
     "execution_count": 18,
     "metadata": {},
     "output_type": "execute_result"
    }
   ],
   "source": [
    "#拆解Tuple\n",
    "lax_coordinates = (33.9425,-118.408056)\n",
    "city = ('Tokyo',2003,32450,0.66,8014)\n",
    "\n",
    "latitude,longitude = lax_coordinates \n",
    "print(latitude,longitude)\n",
    "\n",
    "divmod(20,8)\n",
    "\n",
    "t = (20,8)\n",
    "divmod(*t)\n",
    "\n",
    "quotient,remainder = divmod(*t)\n",
    "\n",
    "quotient\n",
    "remainder"
   ]
  },
  {
   "cell_type": "code",
   "execution_count": 2,
   "metadata": {},
   "outputs": [
    {
     "data": {
      "text/plain": [
       "'idrsa.pub'"
      ]
     },
     "execution_count": 2,
     "metadata": {},
     "output_type": "execute_result"
    }
   ],
   "source": [
    "import os\n",
    "_,filename = os.path.split('/home/luciano/.ssh/idrsa.pub')\n",
    "filename\n",
    "\n",
    "#用*來捕捉項目\n",
    "rangeA = range(5)\n",
    "rangeA\n",
    "a,b, *rest = range(5) \n",
    "print(a,b,rest)\n"
   ]
  },
  {
   "cell_type": "code",
   "execution_count": 9,
   "metadata": {},
   "outputs": [
    {
     "name": "stdout",
     "output_type": "stream",
     "text": [
      "0 1 [2, 3, 4]\n"
     ]
    }
   ],
   "source": [
    "#用*來捕捉項目\n",
    "rangeA = range(5)\n",
    "rangeA\n",
    "a,b, *rest = range(5) \n",
    "print(a,b,rest)\n"
   ]
  },
  {
   "cell_type": "code",
   "execution_count": 13,
   "metadata": {},
   "outputs": [
    {
     "name": "stdout",
     "output_type": "stream",
     "text": [
      "                |    lat    |  long   \n",
      "Mexico City     |   19.0000 |  -99.0000\n",
      "New York        |   40.0000 |  -74.0000\n",
      "Sao Paulo       |  -23.0000 |  -46.0000\n"
     ]
    }
   ],
   "source": [
    "#2-8拆解嵌套式tuple,來取得經度\n",
    "metro_areas = [\n",
    "    ('Tokyo','JP',36.933,(35,139)),\n",
    "    ('Delhi NCR','IN',21.935,(28,77)),\n",
    "    ('Mexico City','MX',20,(19,-99)),\n",
    "    ('New York','US',20,(40,-74)),\n",
    "    ('Sao Paulo','BR',19,(-23,-46)),   \n",
    "]\n",
    "\n",
    "print('{:15} | {:^9} |{:^9}'.format('','lat','long'))\n",
    "fmt = '{:15} | {:9.4f} | {:9.4f}'\n",
    "for name,cc,pop,(latitude,longitude) in metro_areas:\n",
    "    if longitude <=0:\n",
    "        print(fmt.format(name,latitude,longitude))"
   ]
  },
  {
   "cell_type": "code",
   "execution_count": 32,
   "metadata": {},
   "outputs": [
    {
     "name": "stdout",
     "output_type": "stream",
     "text": [
      "OrderedDict([('name', 'Delhi NCR'), ('country', 'IN'), ('population', 21.935), ('coordinates', LatLong(lat=28, long=77))])\n",
      "name : Delhi NCR\n",
      "country : IN\n",
      "population : 21.935\n",
      "coordinates : LatLong(lat=28, long=77)\n"
     ]
    },
    {
     "data": {
      "text/plain": [
       "['__add__',\n",
       " '__class__',\n",
       " '__contains__',\n",
       " '__delattr__',\n",
       " '__dir__',\n",
       " '__doc__',\n",
       " '__eq__',\n",
       " '__format__',\n",
       " '__ge__',\n",
       " '__getattribute__',\n",
       " '__getitem__',\n",
       " '__getnewargs__',\n",
       " '__gt__',\n",
       " '__hash__',\n",
       " '__init__',\n",
       " '__init_subclass__',\n",
       " '__iter__',\n",
       " '__le__',\n",
       " '__len__',\n",
       " '__lt__',\n",
       " '__mul__',\n",
       " '__ne__',\n",
       " '__new__',\n",
       " '__reduce__',\n",
       " '__reduce_ex__',\n",
       " '__repr__',\n",
       " '__rmul__',\n",
       " '__setattr__',\n",
       " '__sizeof__',\n",
       " '__str__',\n",
       " '__subclasshook__',\n",
       " 'count',\n",
       " 'index']"
      ]
     },
     "execution_count": 32,
     "metadata": {},
     "output_type": "execute_result"
    }
   ],
   "source": [
    "#2-9定義並使用具名tuple型態\n",
    "from collections import namedtuple\n",
    "City = namedtuple('City','name country population coordinates')\n",
    "tokyo = City('Tokyo','JP','36',(35,139))\n",
    "tokyo\n",
    "tokyo.population\n",
    "tokyo.coordinates\n",
    "tokyo[3]\n",
    "\n",
    "#具tuple屬性與方法\n",
    "City._fields\n",
    "LatLong = namedtuple('LatLong','lat long')\n",
    "delhi_data = ('Delhi NCR','IN',21.935,LatLong(28,77))\n",
    "delhi = City._make(delhi_data)\n",
    "print(delhi._asdict())\n",
    "\n",
    "for key,value in delhi._asdict().items():\n",
    "    print(key,':',value)\n",
    "\n",
    "A = (1,2,3,4,5,6)\n",
    "type(A)    \n",
    "#dir(A)"
   ]
  },
  {
   "cell_type": "code",
   "execution_count": null,
   "metadata": {},
   "outputs": [],
   "source": []
  }
 ],
 "metadata": {
  "kernelspec": {
   "display_name": "Python 3",
   "language": "python",
   "name": "python3"
  },
  "language_info": {
   "codemirror_mode": {
    "name": "ipython",
    "version": 3
   },
   "file_extension": ".py",
   "mimetype": "text/x-python",
   "name": "python",
   "nbconvert_exporter": "python",
   "pygments_lexer": "ipython3",
   "version": "3.6.10"
  }
 },
 "nbformat": 4,
 "nbformat_minor": 4
}
