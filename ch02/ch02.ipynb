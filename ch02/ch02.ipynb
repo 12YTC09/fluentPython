{
 "cells": [
  {
   "cell_type": "code",
   "execution_count": 1,
   "metadata": {},
   "outputs": [
    {
     "name": "stdout",
     "output_type": "stream",
     "text": [
      "2-1: [36, 38, 64, 33, 37, 42]\n",
      "2-2: [36, 38, 64, 33, 37, 42]\n"
     ]
    }
   ],
   "source": [
    "#2-1 用字串建構一個Unicode編碼位置串列\n",
    "symbols = '$&@!%*'\n",
    "codes = []\n",
    "for symbol in symbols:\n",
    "    codes.append(ord(symbol))\n",
    "\n",
    "print(\"2-1:\",codes)\n",
    "\n",
    "\n",
    "#2-2 用字串建構一個Unicode編碼位置串列，只用兩行程式\n",
    "symbols = '$&@!%*'\n",
    "codes = [ord(symbol) for symbol in symbols]\n",
    "print(\"2-2:\",codes)\n",
    "\n",
    "\"\"\"\n",
    "ord() 函数是 chr() 函数（对于8位的ASCII字符串或unichr()函数（对于Unicode对象）\n",
    "的配对函数，它以一个字符（长度为1的字符串）作为参数，返回对应的 ASCII 数值，\n",
    "或者 Unicode 数值，如果所给的 Unicode 字符超出了你的 Python 定义范围，\n",
    "则会引发一个 TypeError 的异常。\n",
    "\"\"\""
   ]
  },
  {
   "cell_type": "code",
   "execution_count": 5,
   "metadata": {},
   "outputs": [
    {
     "name": "stdout",
     "output_type": "stream",
     "text": [
      "[36, 38, 64, 33, 37, 42]\n"
     ]
    },
    {
     "data": {
      "text/plain": [
       "[36, 38, 64, 33, 37, 42]"
      ]
     },
     "execution_count": 5,
     "metadata": {},
     "output_type": "execute_result"
    }
   ],
   "source": [
    "#2-3listcomp與map/filter組合建構的同一串列\n",
    "symbols = '$&@!%*'\n",
    "beyond_ascii = [ord(s) for s in symbols if ord(s) > 27]\n",
    "print(beyond_ascii)\n",
    "\n",
    "beyond_ascii =list(filter(lambda c: c >27,map(ord,symbols)))\n",
    "print(beyond_ascii)\n",
    "\n",
    "\n"
   ]
  },
  {
   "cell_type": "code",
   "execution_count": 6,
   "metadata": {},
   "outputs": [
    {
     "name": "stdout",
     "output_type": "stream",
     "text": [
      "[('black', 'S'), ('black', 'M'), ('black', 'L'), ('white', 'S'), ('white', 'M'), ('white', 'L')]\n",
      "('black', 'S')\n",
      "('black', 'M')\n",
      "('black', 'L')\n",
      "('white', 'S')\n",
      "('white', 'M')\n",
      "('white', 'L')\n"
     ]
    },
    {
     "data": {
      "text/plain": [
       "[('black', 'S'),\n",
       " ('white', 'S'),\n",
       " ('black', 'M'),\n",
       " ('white', 'M'),\n",
       " ('black', 'L'),\n",
       " ('white', 'L')]"
      ]
     },
     "execution_count": 6,
     "metadata": {},
     "output_type": "execute_result"
    }
   ],
   "source": [
    "#2-4 使用串列生成式來作笛卡爾乘積\n",
    "colors = ['black','white']\n",
    "sizes = ['S','M','L']\n",
    "tshirts = [(color,size) for color in colors for size in sizes]\n",
    "print(tshirts)\n",
    "\n",
    "for color in colors:\n",
    "    for size in sizes:\n",
    "        print((color,size))\n",
    "        \n",
    "tshirts = [(color,size) for size in sizes for color in colors]\n",
    "tshirts"
   ]
  },
  {
   "cell_type": "code",
   "execution_count": 9,
   "metadata": {},
   "outputs": [
    {
     "name": "stdout",
     "output_type": "stream",
     "text": [
      "black S\n",
      "black M\n",
      "black L\n",
      "white S\n",
      "white M\n",
      "white L\n",
      "BRA CE342567\n",
      "ESP XDA205856\n",
      "USA 31195855\n",
      "USA\n",
      "BRA\n",
      "ESP\n"
     ]
    }
   ],
   "source": [
    "#2-5 以產生器表達式來初始化tuple與陣列\n",
    "colors = ['black','white']\n",
    "sizes = ['S','M','L']\n",
    "symbols = '$&@!%*'\n",
    "tuple(ord(symbol) for symbol in symbols)\n",
    "import array\n",
    "array.array('I',(ord(symbol)for symbol in symbols))\n",
    "\n",
    "#2-6以產生氣做迪卡爾乘績\n",
    "for tshirt in ('%s %s'%(c,s) for c in colors for s in sizes):\n",
    "    print(tshirt)\n",
    "    \n",
    "#2-7將tuple當作紀錄\n",
    "lax_coordinates = (33.9425,-118.408056)\n",
    "city = ('Tokyo',2003,32450,0.66,8014)\n",
    "travel_id = [('USA','31195855'),('BRA','CE342567'),('ESP','XDA205856')]\n",
    "for passort in sorted(travel_id):\n",
    "    print('%s %s' %passort)\n",
    "    \n",
    "for country, _ in travel_id:\n",
    "    print(country)"
   ]
  },
  {
   "cell_type": "code",
   "execution_count": 18,
   "metadata": {},
   "outputs": [
    {
     "name": "stdout",
     "output_type": "stream",
     "text": [
      "33.9425 -118.408056\n"
     ]
    },
    {
     "data": {
      "text/plain": [
       "4"
      ]
     },
     "execution_count": 18,
     "metadata": {},
     "output_type": "execute_result"
    }
   ],
   "source": [
    "#拆解Tuple\n",
    "lax_coordinates = (33.9425,-118.408056)\n",
    "city = ('Tokyo',2003,32450,0.66,8014)\n",
    "\n",
    "latitude,longitude = lax_coordinates \n",
    "print(latitude,longitude)\n",
    "\n",
    "divmod(20,8)\n",
    "\n",
    "t = (20,8)\n",
    "divmod(*t)\n",
    "\n",
    "quotient,remainder = divmod(*t)\n",
    "\n",
    "quotient\n",
    "remainder"
   ]
  },
  {
   "cell_type": "code",
   "execution_count": 2,
   "metadata": {},
   "outputs": [
    {
     "data": {
      "text/plain": [
       "'idrsa.pub'"
      ]
     },
     "execution_count": 2,
     "metadata": {},
     "output_type": "execute_result"
    }
   ],
   "source": [
    "import os\n",
    "_,filename = os.path.split('/home/luciano/.ssh/idrsa.pub')\n",
    "filename\n",
    "\n",
    "#用*來捕捉項目\n",
    "rangeA = range(5)\n",
    "rangeA\n",
    "a,b, *rest = range(5) \n",
    "print(a,b,rest)\n"
   ]
  },
  {
   "cell_type": "code",
   "execution_count": 9,
   "metadata": {},
   "outputs": [
    {
     "name": "stdout",
     "output_type": "stream",
     "text": [
      "0 1 [2, 3, 4]\n"
     ]
    }
   ],
   "source": [
    "#用*來捕捉項目\n",
    "rangeA = range(5)\n",
    "rangeA\n",
    "a,b, *rest = range(5) \n",
    "print(a,b,rest)\n"
   ]
  },
  {
   "cell_type": "code",
   "execution_count": 13,
   "metadata": {},
   "outputs": [
    {
     "name": "stdout",
     "output_type": "stream",
     "text": [
      "                |    lat    |  long   \n",
      "Mexico City     |   19.0000 |  -99.0000\n",
      "New York        |   40.0000 |  -74.0000\n",
      "Sao Paulo       |  -23.0000 |  -46.0000\n"
     ]
    }
   ],
   "source": [
    "#2-8拆解嵌套式tuple,來取得經度\n",
    "metro_areas = [\n",
    "    ('Tokyo','JP',36.933,(35,139)),\n",
    "    ('Delhi NCR','IN',21.935,(28,77)),\n",
    "    ('Mexico City','MX',20,(19,-99)),\n",
    "    ('New York','US',20,(40,-74)),\n",
    "    ('Sao Paulo','BR',19,(-23,-46)),   \n",
    "]\n",
    "\n",
    "print('{:15} | {:^9} |{:^9}'.format('','lat','long'))\n",
    "fmt = '{:15} | {:9.4f} | {:9.4f}'\n",
    "for name,cc,pop,(latitude,longitude) in metro_areas:\n",
    "    if longitude <=0:\n",
    "        print(fmt.format(name,latitude,longitude))"
   ]
  },
  {
   "cell_type": "code",
   "execution_count": 1,
   "metadata": {},
   "outputs": [
    {
     "name": "stdout",
     "output_type": "stream",
     "text": [
      "('name', 'country', 'population', 'coordinates')\n",
      "OrderedDict([('name', 'Delhi NCR'), ('country', 'IN'), ('population', 21.935), ('coordinates', LatLong(lat=28, long=77))])\n",
      "name : Delhi NCR\n",
      "country : IN\n",
      "population : 21.935\n",
      "coordinates : LatLong(lat=28, long=77)\n"
     ]
    },
    {
     "data": {
      "text/plain": [
       "tuple"
      ]
     },
     "execution_count": 1,
     "metadata": {},
     "output_type": "execute_result"
    }
   ],
   "source": [
    "#2-9定義並使用具名tuple型態\n",
    "from collections import namedtuple\n",
    "City = namedtuple('City','name country population coordinates')\n",
    "tokyo = City('Tokyo','JP','36',(35,139))\n",
    "tokyo\n",
    "tokyo.population\n",
    "tokyo.coordinates\n",
    "tokyo[3]\n",
    "\n",
    "#具tuple屬性與方法\n",
    "print(City._fields)\n",
    "LatLong = namedtuple('LatLong','lat long')\n",
    "delhi_data = ('Delhi NCR','IN',21.935,LatLong(28,77))\n",
    "delhi = City._make(delhi_data)\n",
    "print(delhi._asdict())\n",
    "\n",
    "for key,value in delhi._asdict().items():\n",
    "    print(key,':',value)\n",
    "\n",
    "A = (1,2,3,4,5,6)\n",
    "type(A)    \n",
    "#dir(A)"
   ]
  },
  {
   "cell_type": "code",
   "execution_count": 24,
   "metadata": {},
   "outputs": [
    {
     "name": "stdout",
     "output_type": "stream",
     "text": [
      "[['_', '_', '_'], ['_', '_', 'x'], ['_', '_', '_']]\n",
      "[['o', '_', '_'], ['o', '_', '_'], ['o', '_', '_']]\n"
     ]
    },
    {
     "data": {
      "text/plain": [
       "['', '', '']"
      ]
     },
     "execution_count": 24,
     "metadata": {},
     "output_type": "execute_result"
    }
   ],
   "source": [
    "#2-12 一個可用來表示井字棋盤的串列,裡面有3個長度為三的串列\n",
    "\n",
    "board = [['_']*3 for i in range(3)]\n",
    "board\n",
    "\n",
    "board[1][2] = 'x'\n",
    "print(board)\n",
    "\n",
    "\n",
    "#2-13 一個串列,他的三個內部串列全部都參考到同一串列\n",
    "white_board = [['_']*3]*3\n",
    "#print(white_board)\n",
    "white_board[1][0] = 'o'\n",
    "print(white_board)\n",
    "\n"
   ]
  },
  {
   "cell_type": "code",
   "execution_count": 28,
   "metadata": {},
   "outputs": [
    {
     "ename": "TypeError",
     "evalue": "'tuple' object does not support item assignment",
     "output_type": "error",
     "traceback": [
      "\u001b[0;31m---------------------------------------------------------------------------\u001b[0m",
      "\u001b[0;31mTypeError\u001b[0m                                 Traceback (most recent call last)",
      "\u001b[0;32m<ipython-input-28-1c641cdff982>\u001b[0m in \u001b[0;36m<module>\u001b[0;34m\u001b[0m\n\u001b[1;32m      2\u001b[0m \u001b[0mt\u001b[0m \u001b[0;34m=\u001b[0m \u001b[0;34m(\u001b[0m\u001b[0;36m1\u001b[0m\u001b[0;34m,\u001b[0m\u001b[0;36m2\u001b[0m\u001b[0;34m,\u001b[0m\u001b[0;34m[\u001b[0m\u001b[0;36m30\u001b[0m\u001b[0;34m,\u001b[0m\u001b[0;36m40\u001b[0m\u001b[0;34m]\u001b[0m\u001b[0;34m)\u001b[0m\u001b[0;34m\u001b[0m\u001b[0;34m\u001b[0m\u001b[0m\n\u001b[1;32m      3\u001b[0m \u001b[0;34m\u001b[0m\u001b[0m\n\u001b[0;32m----> 4\u001b[0;31m \u001b[0mt\u001b[0m\u001b[0;34m[\u001b[0m\u001b[0;36m2\u001b[0m\u001b[0;34m]\u001b[0m \u001b[0;34m+=\u001b[0m \u001b[0;34m[\u001b[0m\u001b[0;36m50\u001b[0m\u001b[0;34m,\u001b[0m\u001b[0;36m60\u001b[0m\u001b[0;34m]\u001b[0m\u001b[0;34m\u001b[0m\u001b[0;34m\u001b[0m\u001b[0m\n\u001b[0m",
      "\u001b[0;31mTypeError\u001b[0m: 'tuple' object does not support item assignment"
     ]
    }
   ],
   "source": [
    "#2-15 意外的結果:項目t2被改變,且發出一個例外\n",
    "t = (1,2,[30,40])\n",
    "\n",
    "t[2] += [50,60]\n"
   ]
  },
  {
   "cell_type": "code",
   "execution_count": 30,
   "metadata": {},
   "outputs": [
    {
     "name": "stdout",
     "output_type": "stream",
     "text": [
      "  1           0 LOAD_NAME                0 (s)\n",
      "              2 LOAD_NAME                1 (a)\n",
      "              4 DUP_TOP_TWO\n",
      "              6 BINARY_SUBSCR\n",
      "              8 LOAD_NAME                2 (b)\n",
      "             10 INPLACE_ADD\n",
      "             12 ROT_THREE\n",
      "             14 STORE_SUBSCR\n",
      "             16 LOAD_CONST               0 (None)\n",
      "             18 RETURN_VALUE\n"
     ]
    }
   ],
   "source": [
    "#2-16 \n",
    "#Disassembler for python bytecode\n",
    "import dis\n",
    "dis.dis('s[a] += b')"
   ]
  },
  {
   "cell_type": "code",
   "execution_count": 10,
   "metadata": {},
   "outputs": [
    {
     "name": "stdout",
     "output_type": "stream",
     "text": [
      "array('d', [0.9763889940181576, 0.31666371244448344, 0.5511629578482418, 0.3418302580482031, 0.2703139532832196, 0.11240350175173408, 0.265024614959818, 0.6413188441818886, 0.6069007693019767, 0.8637981407762206, 0.11066978644913661, 0.4169294415687025, 0.6060870451853372, 0.2950692947760559, 0.9713219297774776, 0.036893942673466684, 0.3493978431315614, 0.30958813735722956, 0.7778272250706171, 0.21683816367137565, 0.8817428447205637, 0.10878983233318607, 0.6082963376320426, 0.6945213611284882, 0.056901989418635335, 0.26431899594978436, 0.9219072170905521, 0.7135379332798307, 0.613750243735458, 0.5767431400396846, 0.2092283264512631, 0.014641463982596248, 0.15899851799299614, 0.4342980401394937, 0.43170678310772237, 0.514597909895135, 0.1541994537213317, 0.7316231024693721, 0.6200210323933301, 0.37025631944144655, 0.5122750445268485, 0.7564637710994978, 0.9373531363130732, 0.4669251075644487, 0.9281891166571152, 0.46244516878110775, 0.24326489894891423, 0.058613167573682845, 0.9190768511892982, 0.5926278274543171, 0.70484357671063, 0.11335563223512146, 0.1451098382131949, 0.8691567271958284, 0.13621327667750105, 0.8323261047168898, 0.7079186113762237, 0.5833958552614643, 0.520231585298817, 0.582068647716387, 0.06711665823519775, 0.5102987600327422, 0.40075210942101447, 0.033515014188787884, 0.45485314918317565, 0.8161281769951864, 0.6286223212215594, 0.15952820781082755, 0.7167873137184849, 0.5553607256159742])\n",
      "0.5553607256159742\n"
     ]
    },
    {
     "data": {
      "text/plain": [
       "True"
      ]
     },
     "execution_count": 10,
     "metadata": {},
     "output_type": "execute_result"
    }
   ],
   "source": [
    "#2-20建立,儲存與載入一個大型的浮點陣列\n",
    "\n",
    "from array import array \n",
    "from random import random\n",
    "\n",
    "#'d': C Type-> double  python -> float\n",
    "floats = array('d',(random() for i in range(10*7)))\n",
    "\n",
    "print(floats)\n",
    "\n",
    "floats[-1]\n",
    "\n",
    "fp = open('floats.bin','wb')\n",
    "\n",
    "#numpy.ndarray.tofile:write array to a file as text or binary\n",
    "floats.tofile(fp)\n",
    "fp.close()\n",
    "\n",
    "#建立一個double空陣列\n",
    "floats2 = array('d')\n",
    "fp = open('floats.bin','rb')\n",
    "\n",
    "#construct an array from data in a text or binary file.\n",
    "#從二進位檔案讀取70個數字\n",
    "floats2.fromfile(fp,10*7)\n",
    "fp.close()\n",
    "\n",
    "print(floats2[-1])\n",
    "\n",
    "floats == floats2\n"
   ]
  },
  {
   "cell_type": "code",
   "execution_count": 20,
   "metadata": {},
   "outputs": [
    {
     "name": "stdout",
     "output_type": "stream",
     "text": [
      "<memory at 0x7efe5d1b2888>\n",
      "5\n",
      "[254, 255, 255, 255, 0, 0, 1, 0, 2, 0]\n",
      "254\n"
     ]
    },
    {
     "data": {
      "text/plain": [
       "array('h', [-2, -1, 1024, 1, 2])"
      ]
     },
     "execution_count": 20,
     "metadata": {},
     "output_type": "execute_result"
    }
   ],
   "source": [
    "#記憶體資訊\n",
    "import array\n",
    "\n",
    "#2-21 藉由更改一個陣列項目的其中一個byte,來改變它的值\n",
    "\n",
    "numbers = array.array('h',[-2,-1,0,1,2])\n",
    "\n",
    "memv = memoryview(numbers)\n",
    "print(memv)\n",
    "\n",
    "print(len(memv))\n",
    "\n",
    "memv[0]\n",
    "\n",
    "memv_oct = memv.cast('B')\n",
    "\n",
    "#Convert the array to an ordinary list with the same items.\n",
    "print(memv_oct.tolist())\n",
    "\n",
    "memv_oct[5] = 4\n",
    "print(memv_oct[0])\n",
    "\n",
    "numbers\n"
   ]
  },
  {
   "cell_type": "code",
   "execution_count": 8,
   "metadata": {},
   "outputs": [
    {
     "name": "stdout",
     "output_type": "stream",
     "text": [
      "[[ 0  1  2  3]\n",
      " [ 4  5  6  7]\n",
      " [ 8  9 10 11]]\n"
     ]
    },
    {
     "data": {
      "text/plain": [
       "array([[ 0,  4,  8],\n",
       "       [ 1,  5,  9],\n",
       "       [ 2,  6, 10],\n",
       "       [ 3,  7, 11]])"
      ]
     },
     "execution_count": 8,
     "metadata": {},
     "output_type": "execute_result"
    }
   ],
   "source": [
    "#numpy.ndarray的基本列,欄操作\n",
    "\n",
    "import numpy\n",
    "a = numpy.arange(12)\n",
    "a\n",
    "type(a)\n",
    "a.shape\n",
    "a.shape = 3,4\n",
    "print(a)\n",
    "\n",
    "a.transpose()\n"
   ]
  },
  {
   "cell_type": "code",
   "execution_count": 24,
   "metadata": {},
   "outputs": [
    {
     "name": "stdout",
     "output_type": "stream",
     "text": [
      "Help on built-in function rotate:\n",
      "\n",
      "rotate(...) method of collections.deque instance\n",
      "    Rotate the deque n steps to the right (default n=1).  If n is negative, rotates left.\n",
      "\n"
     ]
    },
    {
     "data": {
      "text/plain": [
       "deque([40, 30, 20, 10, 3, 4, 5, 6, 7, 8])"
      ]
     },
     "execution_count": 24,
     "metadata": {},
     "output_type": "execute_result"
    }
   ],
   "source": [
    "#使用deque\n",
    "#雙端佇列（deque，全名double-ended queue）是一種具有佇列和堆疊性質的抽象資料類型。雙端佇列中的元素可以從兩端彈出，插入和刪除操作限定在佇列的兩邊進行。\n",
    "\n",
    "from collections import deque\n",
    "dq = deque(range(10),maxlen=10)\n",
    "dq\n",
    "help(dq.rotate)\n",
    "dq.rotate(3)\n",
    "dq\n",
    "\n",
    "dq.rotate(-4)\n",
    "dq\n",
    "\n",
    "dq.appendleft(-1)\n",
    "\n",
    "dq\n",
    "dq.extend([11,22,33])\n",
    "\n",
    "dq\n",
    "\n",
    "dq.extendleft([10,20,30,40])\n",
    "dq\n",
    "\n",
    "\n",
    "\n"
   ]
  }
 ],
 "metadata": {
  "kernelspec": {
   "display_name": "Python 3",
   "language": "python",
   "name": "python3"
  },
  "language_info": {
   "codemirror_mode": {
    "name": "ipython",
    "version": 3
   },
   "file_extension": ".py",
   "mimetype": "text/x-python",
   "name": "python",
   "nbconvert_exporter": "python",
   "pygments_lexer": "ipython3",
   "version": "3.6.10"
  }
 },
 "nbformat": 4,
 "nbformat_minor": 4
}
