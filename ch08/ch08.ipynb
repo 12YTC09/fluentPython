{
 "cells": [
  {
   "cell_type": "code",
   "execution_count": 2,
   "metadata": {},
   "outputs": [
    {
     "name": "stdout",
     "output_type": "stream",
     "text": [
      "Gimzo id: 139735774896080\n",
      "Gimzo id: 139735773627168\n"
     ]
    },
    {
     "ename": "TypeError",
     "evalue": "unsupported operand type(s) for *: 'Gizmo' and 'int'",
     "output_type": "error",
     "traceback": [
      "\u001b[0;31m---------------------------------------------------------------------------\u001b[0m",
      "\u001b[0;31mTypeError\u001b[0m                                 Traceback (most recent call last)",
      "\u001b[0;32m<ipython-input-2-fa4ad13b7526>\u001b[0m in \u001b[0;36m<module>\u001b[0;34m\u001b[0m\n\u001b[1;32m      7\u001b[0m \u001b[0mx\u001b[0m \u001b[0;34m=\u001b[0m \u001b[0mGizmo\u001b[0m\u001b[0;34m(\u001b[0m\u001b[0;34m)\u001b[0m\u001b[0;34m\u001b[0m\u001b[0;34m\u001b[0m\u001b[0m\n\u001b[1;32m      8\u001b[0m \u001b[0;34m\u001b[0m\u001b[0m\n\u001b[0;32m----> 9\u001b[0;31m \u001b[0my\u001b[0m \u001b[0;34m=\u001b[0m \u001b[0mGizmo\u001b[0m\u001b[0;34m(\u001b[0m\u001b[0;34m)\u001b[0m \u001b[0;34m*\u001b[0m \u001b[0;36m10\u001b[0m\u001b[0;34m\u001b[0m\u001b[0;34m\u001b[0m\u001b[0m\n\u001b[0m",
      "\u001b[0;31mTypeError\u001b[0m: unsupported operand type(s) for *: 'Gizmo' and 'int'"
     ]
    }
   ],
   "source": [
    "#8-2 當物件被建立之後,變數才會被指派給物件\n",
    "\n",
    "class Gizmo:\n",
    "    def __init__(self):\n",
    "        print('Gimzo id: %d' %id(self))\n",
    "        \n",
    "x = Gizmo()\n",
    "\n",
    "y = Gizmo() * 10"
   ]
  },
  {
   "cell_type": "code",
   "execution_count": 9,
   "metadata": {},
   "outputs": [
    {
     "data": {
      "text/plain": [
       "{'name': 'Charles L. Dodgson', 'born': 1832, 'balance': 950}"
      ]
     },
     "execution_count": 9,
     "metadata": {},
     "output_type": "execute_result"
    }
   ],
   "source": [
    "#8-3 charles 與 lewis代表同一個物件\n",
    "\n",
    "charles = {'name': 'Charles L. Dodgson','born':1832}\n",
    "lewis = charles\n",
    "lewis is charles\n",
    "\n",
    "id(charles),id(lewis)\n",
    "\n",
    "lewis['balance'] = 950\n",
    "\n",
    "charles"
   ]
  },
  {
   "cell_type": "code",
   "execution_count": 16,
   "metadata": {},
   "outputs": [
    {
     "name": "stdout",
     "output_type": "stream",
     "text": [
      "139735775135176\n"
     ]
    },
    {
     "data": {
      "text/plain": [
       "False"
      ]
     },
     "execution_count": 16,
     "metadata": {},
     "output_type": "execute_result"
    }
   ],
   "source": [
    "#8-5 t1與t2一開始是相等的,但是更改tuple t1內的可變項目後,會讓它們變成不相等\n",
    "\n",
    "\n",
    "t1 = (1,2,[30,40])\n",
    "t2 = (1,2,[30,40])\n",
    "t1 == t2\n",
    "\n",
    "print(id(t1[-1]))\n",
    "\n",
    "t1[-1].append(99)\n",
    "t1\n",
    "\n",
    "id(t1[-1])\n",
    "\n",
    "\n",
    "t1 == t2\n",
    "\n",
    "\n"
   ]
  },
  {
   "cell_type": "code",
   "execution_count": 6,
   "metadata": {},
   "outputs": [
    {
     "name": "stdout",
     "output_type": "stream",
     "text": [
      "140557710632136\n",
      "140557710291464\n"
     ]
    },
    {
     "data": {
      "text/plain": [
       "False"
      ]
     },
     "execution_count": 6,
     "metadata": {},
     "output_type": "execute_result"
    }
   ],
   "source": [
    "#在預設情況下,複製是淺層的\n",
    "l1=[3,[55,44],(7,8,9)]\n",
    "type(l1)\n",
    "\n",
    "l2 = list(l1)\n",
    "l2\n",
    "\n",
    "print(id(l1))\n",
    "print(id(l2))\n",
    "\n",
    "l1 == l2\n",
    "\n",
    "l2 is l1\n",
    "\n"
   ]
  },
  {
   "cell_type": "code",
   "execution_count": 7,
   "metadata": {},
   "outputs": [
    {
     "name": "stdout",
     "output_type": "stream",
     "text": [
      "l1: [3, [66, 44], (7, 8, 9), 100]\n",
      "l2: [3, [66, 44], (7, 8, 9)]\n",
      "l1: [3, [66, 44, 33, 22], (7, 8, 9), 100]\n",
      "l2: [3, [66, 44, 33, 22], (7, 8, 9, 10, 11)]\n"
     ]
    }
   ],
   "source": [
    "#ex8-6 淺複製一個含有其他串列的串列,複製並貼上這段程式,在inline python tour 上看他的動畫\n",
    "\n",
    "l1 =[3,[66,55,44],(7,8,9)]\n",
    "l2 = list(l1)\n",
    "\n",
    "l1.append(100)\n",
    "l1[1].remove(55)\n",
    "print('l1:',l1)\n",
    "print('l2:',l2)\n",
    "\n",
    "l2[1] += [33,22]\n",
    "l2[2] += (10,11)\n",
    "print('l1:',l1)\n",
    "print('l2:',l2)"
   ]
  },
  {
   "cell_type": "code",
   "execution_count": 24,
   "metadata": {},
   "outputs": [
    {
     "name": "stdout",
     "output_type": "stream",
     "text": [
      "['Alice', 'Claire', 'David']\n"
     ]
    },
    {
     "data": {
      "text/plain": [
       "['Alice', 'Bill', 'Claire', 'David']"
      ]
     },
     "execution_count": 24,
     "metadata": {},
     "output_type": "execute_result"
    }
   ],
   "source": [
    "from  bus import Bus\n",
    "\n",
    "import copy\n",
    "\n",
    "\n",
    "bus1 = Bus(['Alice','Bill','Claire','David'])\n",
    "bus1\n",
    "bus1.passengers\n",
    "\n",
    "bus2 = copy.copy(bus1)\n",
    "bus3 = copy.deepcopy(bus1)\n",
    "\n",
    "\n",
    "id(bus1),id(bus2),id(bus3)\n",
    "\n",
    "bus1.drop('Bill')\n",
    "print(bus2.passengers)\n",
    "id(bus1.passengers),id(bus2.passengers),id(bus3.passengers)\n",
    "\n",
    "bus3.passengers\n",
    "\n",
    "\n",
    "\n",
    "\n"
   ]
  },
  {
   "cell_type": "code",
   "execution_count": 29,
   "metadata": {},
   "outputs": [
    {
     "data": {
      "text/plain": [
       "(140557578633480, 140557579185992, 140557578634120)"
      ]
     },
     "execution_count": 29,
     "metadata": {},
     "output_type": "execute_result"
    }
   ],
   "source": [
    "#8-10 循環參考:從b參考到a,接著被賦加到a;deepcopy仍然會設法複製a\n",
    "\n",
    "a = [10,20]\n",
    "b = [a,30]\n",
    "\n",
    "b\n",
    "\n",
    "a.append(b)\n",
    "a\n",
    "\n",
    "from copy import deepcopy\n",
    "\n",
    "c = deepcopy(a)\n",
    "c\n",
    "\n",
    "id(a),id(b),id(c)"
   ]
  },
  {
   "cell_type": "code",
   "execution_count": 39,
   "metadata": {},
   "outputs": [
    {
     "data": {
      "text/plain": [
       "(10, 20, 30, 40)"
      ]
     },
     "execution_count": 39,
     "metadata": {},
     "output_type": "execute_result"
    }
   ],
   "source": [
    "#ex 8-11 函式可能會改變它所接收的可變物件\n",
    "\n",
    "\n",
    "def f(a,b):\n",
    "    a += b\n",
    "    return a\n",
    "\n",
    "x = 1\n",
    "y = 2\n",
    "f(1,2)\n",
    "\n",
    "x,y\n",
    "\n",
    "a = [1,2]\n",
    "b = [3,4]\n",
    "\n",
    "f(a,b)\n",
    "a,b\n",
    "\n",
    "t = (10,20)\n",
    "u = (30,40)\n",
    "f(t,u)\n",
    "\n",
    "#t,u\n"
   ]
  },
  {
   "cell_type": "code",
   "execution_count": 29,
   "metadata": {},
   "outputs": [
    {
     "data": {
      "text/plain": [
       "['Charlie',\n",
       " 'Charlie',\n",
       " 'Carrie',\n",
       " 'Carrie',\n",
       " 'Carrie',\n",
       " 'Carrie',\n",
       " 'Carrie',\n",
       " 'Carrie',\n",
       " 'Carrie',\n",
       " 'Carrie',\n",
       " 'Carrie',\n",
       " 'Carrie',\n",
       " 'Carrie']"
      ]
     },
     "execution_count": 29,
     "metadata": {},
     "output_type": "execute_result"
    }
   ],
   "source": [
    "#使用可變型態預設參數：壞主義\n",
    "from wrongBus  import Bus\n",
    "\n",
    "bus1 = Bus(['Alice','Bill'])\n",
    "bus1.passengers\n",
    "bus1.pick('Charlie')\n",
    "bus1.drop('Alice')\n",
    "bus1.passengers\n",
    "\n",
    "#%reset\n",
    "\n",
    "bus2 =Bus()\n",
    "bus2.passengers\n",
    "bus2.pick('Carrie')\n",
    "bus2.passengers\n",
    "\n",
    "dir(Bus.__init__)\n",
    "Bus.__init__.__defaults__\n",
    "Bus.__init__.__defaults__[0]\n"
   ]
  },
  {
   "cell_type": "code",
   "execution_count": 39,
   "metadata": {},
   "outputs": [
    {
     "name": "stdout",
     "output_type": "stream",
     "text": [
      "Gone with the wind\n"
     ]
    },
    {
     "data": {
      "text/plain": [
       "False"
      ]
     },
     "execution_count": 39,
     "metadata": {},
     "output_type": "execute_result"
    }
   ],
   "source": [
    "#8-16 觀察物件的晚年,當沒有參考指向他時\n",
    "\n",
    "#The weakref module allows the Pyhton programmer to create weak references to objects\n",
    "import weakref\n",
    "\n",
    "s1 = {1,2,3}\n",
    "s2 = s1\n",
    "s2\n",
    "\n",
    "def bye():\n",
    "    print('Gone with the wind')\n",
    "    \n",
    "ender = weakref.finalize(s1,bye)\n",
    "ender.alive\n",
    "\n",
    "del s1\n",
    "\n",
    "ender.alive\n",
    "\n",
    "s2 = 'spam'\n",
    "s2\n",
    "\n",
    "ender.alive\n",
    "\n"
   ]
  }
 ],
 "metadata": {
  "kernelspec": {
   "display_name": "Python 3",
   "language": "python",
   "name": "python3"
  },
  "language_info": {
   "codemirror_mode": {
    "name": "ipython",
    "version": 3
   },
   "file_extension": ".py",
   "mimetype": "text/x-python",
   "name": "python",
   "nbconvert_exporter": "python",
   "pygments_lexer": "ipython3",
   "version": "3.6.10"
  }
 },
 "nbformat": 4,
 "nbformat_minor": 4
}
