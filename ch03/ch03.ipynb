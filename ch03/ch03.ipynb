{
 "cells": [
  {
   "cell_type": "code",
   "execution_count": null,
   "metadata": {},
   "outputs": [],
   "source": [
    "#\n",
    "from  collections import abc\n",
    "my_dict = {}\n",
    "isinstance(my_dict,abc.Mapping)\n",
    "\n",
    "#help(abc)\n",
    "help(hash)\n",
    "tt = (1,2,(30,40))\n",
    "print(hash(tt))\n",
    "\n",
    "t1 = (1,2,[30,40])\n",
    "#hash(t1)\n",
    "\n",
    "id(tt)\n"
   ]
  },
  {
   "cell_type": "code",
   "execution_count": null,
   "metadata": {},
   "outputs": [],
   "source": [
    "import sys\n",
    "import re\n",
    "\n",
    "#+:Causes the resulting RE to match 1 \n",
    "#or more repetitions of the preceding RE\n",
    "\n",
    "#\\w:Matches Unicode word characters; \n",
    "#this includes most characters that can be part of a word in any language,\n",
    "#as well as numbers and the underscore. \n",
    "#If the ASCII flag is used, only [a-zA-Z0-9_] is matched \n",
    "\n",
    "WORD_RE = re.compile('\\w+')\n",
    "\n",
    "index={}\n",
    "\n",
    "with open('zen.txt',encoding = 'utf-8') as fp:\n",
    "    for line_no,line in enumerate(fp,1):\n",
    "        print(line_no,line)\n",
    "        for match in WORD_RE.finditer(line):\n",
    "            #print(match)\n",
    "            #group():Returns one or more subgroups of the match.\n",
    "            word = match.group()\n",
    "            #print(word)\n",
    "            column_no = match.start()+1\n",
    "            #print(column_no)\n",
    "            location = (line_no,column_no)\n",
    "            #print(location)\n",
    "            occurrenceces = index.get(word,[])\n",
    "            #print(occurrenceces)\n",
    "            occurrenceces.append(location)\n",
    "            index[word] = occurrenceces\n",
    "            #print(index)\n",
    "\n",
    "#按照字母順序列出\n",
    "for word in sorted(index,key=str.upper):\n",
    "    print(word,index[word])"
   ]
  },
  {
   "cell_type": "code",
   "execution_count": null,
   "metadata": {},
   "outputs": [],
   "source": [
    "import sys\n",
    "import re\n",
    "\n",
    "#+:Causes the resulting RE to match 1 \n",
    "#or more repetitions of the preceding RE\n",
    "\n",
    "#\\w:Matches Unicode word characters; \n",
    "#this includes most characters that can be part of a word in any language,\n",
    "#as well as numbers and the underscore. \n",
    "#If the ASCII flag is used, only [a-zA-Z0-9_] is matched \n",
    "\n",
    "WORD_RE = re.compile('\\w+')\n",
    "\n",
    "index={}\n",
    "\n",
    "with open('zen.txt',encoding = 'utf-8') as fp:\n",
    "    for line_no,line in enumerate(fp,1):\n",
    "        print(line_no,line)\n",
    "        for match in WORD_RE.finditer(line):\n",
    "            #print(match)\n",
    "            #group():Returns one or more subgroups of the match.\n",
    "            word = match.group()\n",
    "            #print(word)\n",
    "            column_no = match.start()+1\n",
    "            #print(column_no)\n",
    "            location = (line_no,column_no)\n",
    "            #print(location)\n",
    "            #取得word的出現狀況串列,如果沒找到就設為[]\n",
    "            index.setdefault(word,[]).append(location)\n",
    "            #print(index)\n",
    "            \n",
    "#按照字母順序列出\n",
    "for word in sorted(index,key=str.upper):\n",
    "    print(word,index[word])"
   ]
  },
  {
   "cell_type": "code",
   "execution_count": null,
   "metadata": {},
   "outputs": [],
   "source": [
    "#使用defaultdict的實例來取代setdefault方法\n",
    "import sys\n",
    "import re\n",
    "import collections \n",
    "\n",
    "#+:Causes the resulting RE to match 1 \n",
    "#or more repetitions of the preceding RE\n",
    "\n",
    "#\\w:Matches Unicode word characters; \n",
    "#this includes most characters that can be part of a word in any language,\n",
    "#as well as numbers and the underscore. \n",
    "#If the ASCII flag is used, only [a-zA-Z0-9_] is matched \n",
    "\n",
    "WORD_RE = re.compile('\\w+')\n",
    "\n",
    "#使用list建構式來建立defaultdict,將它當成default_factory\n",
    "index= collections.defaultdict(list)\n",
    "\n",
    "with open('zen.txt',encoding = 'utf-8') as fp:\n",
    "    for line_no,line in enumerate(fp,1):\n",
    "        print(line_no,line)\n",
    "        for match in WORD_RE.finditer(line):\n",
    "            #print(match)\n",
    "            #group():Returns one or more subgroups of the match.\n",
    "            word = match.group()\n",
    "            #print(word)\n",
    "            column_no = match.start()+1\n",
    "            #print(column_no)\n",
    "            location = (line_no,column_no)\n",
    "            #print(location)\n",
    "            index[word].append(location)\n",
    "            #print(index)\n",
    "            \n",
    "#按照字母順序列出\n",
    "for word in sorted(index,key=str.upper):\n",
    "    print(word,index[word])"
   ]
  },
  {
   "cell_type": "code",
   "execution_count": 26,
   "metadata": {},
   "outputs": [
    {
     "data": {
      "text/plain": [
       "True"
      ]
     },
     "execution_count": 26,
     "metadata": {},
     "output_type": "execute_result"
    }
   ],
   "source": [
    "# %load StrKeyDict0.py\n",
    "#!/usr/bin/pydoc3.5 \n",
    "\n",
    "#3-7 將非字串的鍵轉換為字串\n",
    "class StrKeyDict0(dict):\n",
    "    \n",
    "    def __missing__(self,key):\n",
    "        if isinstance(key,str):\n",
    "            raise KeyError(key)\n",
    "        return self[str(key)]\n",
    "    def get(self,key,default=None):\n",
    "        try:\n",
    "            return self[key]\n",
    "        except KeyError:\n",
    "            return default\n",
    "    def __contains__(self,key):\n",
    "        #keys()函數以列表返回一個字典所有的鍵\n",
    "        return key in self.keys() or str(key) in self.keys()\n",
    "\n",
    "\n",
    "d = StrKeyDict0([('2','two'),('4','four')])    \n",
    "\n",
    "d['2']\n",
    "d['4']\n",
    "#d['1']\n",
    "\n",
    "d.get('2')\n",
    "d.get(1,'N/A')\n",
    "\n",
    "1 in d\n",
    "2 in d"
   ]
  },
  {
   "cell_type": "code",
   "execution_count": 4,
   "metadata": {},
   "outputs": [
    {
     "data": {
      "text/plain": [
       "[('a', 10), ('z', 3)]"
      ]
     },
     "execution_count": 4,
     "metadata": {},
     "output_type": "execute_result"
    }
   ],
   "source": [
    "#dict的變化\n",
    "#collections.OrderedDict\n",
    "#collections.ChainMap\n",
    "#collections.Counter\n",
    "\n",
    "import collections\n",
    "ct = collections.Counter('abracadabra')\n",
    "ct\n",
    "ct.update('aaaaazzz')\n",
    "ct\n",
    "ct.most_common(2)\n",
    "#collections.UserDict\n",
    "\n"
   ]
  },
  {
   "cell_type": "code",
   "execution_count": null,
   "metadata": {},
   "outputs": [],
   "source": [
    "#將UserDict子類別化\n",
    "#3-8 在插入,更新與查找的時候,StrkeyDict一定會將非字串轉換成Str\n",
    "import collections\n",
    "\n",
    "class StrKeyDict(collections.UserDict):\n",
    "    def __missing__(self,key):\n",
    "        if isnstance(key,str):\n",
    "            raise KeyError(key)\n",
    "        return self[str(key)]\n",
    "    def __contains__(self,key):\n",
    "        return str(key) in self.data\n",
    "    def __setitem__(self,key,item):\n",
    "        self.data[str(key)] = item\n",
    "        \n"
   ]
  },
  {
   "cell_type": "code",
   "execution_count": 4,
   "metadata": {},
   "outputs": [
    {
     "data": {
      "text/plain": [
       "mappingproxy({1: 'A', 2: 'B'})"
      ]
     },
     "execution_count": 4,
     "metadata": {},
     "output_type": "execute_result"
    }
   ],
   "source": [
    "#3-9 MappingProxType 會由dict建構一個唯獨的mappingproxy實例\n",
    "\n",
    "from types import MappingProxyType\n",
    "d ={1:'A'}\n",
    "d_proxy = MappingProxyType(d)\n",
    "d_proxy\n",
    "\n",
    "d[2] = 'B'\n",
    "d_proxy\n"
   ]
  },
  {
   "cell_type": "code",
   "execution_count": 6,
   "metadata": {},
   "outputs": [
    {
     "data": {
      "text/plain": [
       "{'eggs', 'spam'}"
      ]
     },
     "execution_count": 6,
     "metadata": {},
     "output_type": "execute_result"
    }
   ],
   "source": [
    "l = ['spam','spam','eggs','spam']\n",
    "set(l)\n",
    "\n",
    "#3-10 計算haystack裡面needles數量,兩者都是集合狀態\n",
    "\n",
    "found = len(haystack & needles)\n",
    "\n",
    "#3-11 計算haystack內的needles數量\n",
    "found = 0\n",
    "for n in needles:\n",
    "    for n in haystack:\n",
    "        found += 1\n",
    "\n",
    "#3-12  計算haystack內的needles數量,這些程式可執行任何可迭代狀態\n",
    "\n",
    "found = len(set(needles) & set(haystack))\n",
    "\n",
    "# another type\n",
    "found = len(set(needles).intersection(haystack))\n"
   ]
  },
  {
   "cell_type": "code",
   "execution_count": 11,
   "metadata": {},
   "outputs": [
    {
     "data": {
      "text/plain": [
       "set"
      ]
     },
     "execution_count": 11,
     "metadata": {},
     "output_type": "execute_result"
    }
   ],
   "source": [
    "s ={1}\n",
    "type(s)\n",
    "\n",
    "s.pop()\n",
    "s\n",
    "type(s)"
   ]
  },
  {
   "cell_type": "code",
   "execution_count": 20,
   "metadata": {},
   "outputs": [
    {
     "name": "stdout",
     "output_type": "stream",
     "text": [
      "  1           0 LOAD_CONST               0 (1)\n",
      "              2 BUILD_SET                1\n",
      "              4 RETURN_VALUE\n",
      "None\n",
      "  1           0 LOAD_NAME                0 (set)\n",
      "              2 LOAD_CONST               0 (1)\n",
      "              4 CALL_FUNCTION            1\n",
      "              6 RETURN_VALUE\n",
      "None\n"
     ]
    },
    {
     "data": {
      "text/plain": [
       "10"
      ]
     },
     "execution_count": 20,
     "metadata": {},
     "output_type": "execute_result"
    }
   ],
   "source": [
    "# dis : The dis module supports the analysis of \n",
    "#       CPython bytecode by disassembling it.\n",
    "\n",
    "from dis import dis\n",
    "\n",
    "print(dis('{1}'))\n",
    "\n",
    "print(dis('set(1)'))\n",
    "\n",
    "\n",
    "#frozenset: Return a new set or frozenset object \n",
    "#           whose elements are taken from iterable\n",
    "a = frozenset(range(10))\n",
    "len(a)\n"
   ]
  }
 ],
 "metadata": {
  "kernelspec": {
   "display_name": "Python 3",
   "language": "python",
   "name": "python3"
  },
  "language_info": {
   "codemirror_mode": {
    "name": "ipython",
    "version": 3
   },
   "file_extension": ".py",
   "mimetype": "text/x-python",
   "name": "python",
   "nbconvert_exporter": "python",
   "pygments_lexer": "ipython3",
   "version": "3.6.10"
  }
 },
 "nbformat": 4,
 "nbformat_minor": 4
}
