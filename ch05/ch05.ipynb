{
 "cells": [
  {
   "cell_type": "code",
   "execution_count": 22,
   "metadata": {},
   "outputs": [
    {
     "name": "stdout",
     "output_type": "stream",
     "text": [
      "1\n",
      "1\n",
      "2\n",
      "6\n",
      "24\n",
      "120\n",
      "720\n",
      "5040\n",
      "40320\n",
      "362880\n",
      "3628800\n"
     ]
    },
    {
     "data": {
      "text/plain": [
       "['fig', 'apple', 'cherry', 'banana', 'raspberry', 'strawberry']"
      ]
     },
     "execution_count": 22,
     "metadata": {},
     "output_type": "execute_result"
    }
   ],
   "source": [
    "#5-1建立並測試函式,接著讀取他的__doc__並檢查他的型態\n",
    "def factorial(n):\n",
    "    '''return n!'''\n",
    "    return 1 if n < 2 else n * factorial(n-1)\n",
    "\n",
    "factorial(42)\n",
    "factorial.__doc__\n",
    "type(factorial)\n",
    "\n",
    "#5-2以不同的名稱來使用函式,並將函式當成引數傳入\n",
    "fact = factorial\n",
    "fact\n",
    "fact(5)\n",
    "\n",
    "A =map(factorial,range(11))  #map()會根據提供的函數對指定序列作映射\n",
    "                             #map()為迭代器\n",
    "for b in A:\n",
    "    print(b)\n",
    "\n",
    "#5-3 按照長度來排序一串單字\n",
    "fruits = ['strawberry','fig','apple','cherry','raspberry','banana']\n",
    "sorted(fruits,key=len)\n"
   ]
  },
  {
   "cell_type": "code",
   "execution_count": 30,
   "metadata": {},
   "outputs": [
    {
     "name": "stdout",
     "output_type": "stream",
     "text": [
      "[1, 1, 2, 6, 24, 120]\n",
      "[1, 1, 2, 6, 24, 120]\n"
     ]
    },
    {
     "data": {
      "text/plain": [
       "[1, 6, 120]"
      ]
     },
     "execution_count": 30,
     "metadata": {},
     "output_type": "execute_result"
    }
   ],
   "source": [
    "def reverse(word):\n",
    "    return word[::-1]\n",
    "reverse(\"testing\")\n",
    "sorted(fruits,key=reverse)\n",
    "\n",
    "#5-5 以map與filter做成的階乘串列,將它與使用串列生成式寫成程式碼比較\n",
    "a = list(map(fact,range(6)))\n",
    "print(a)\n",
    "\n",
    "b = [fact(n) for n in range(6)]\n",
    "print(b)\n",
    "\n",
    "list(map(factorial,filter(lambda n : n %2,range(6))))\n",
    "\n",
    "[factorial(n) for n in range(6) if n%2]"
   ]
  },
  {
   "cell_type": "code",
   "execution_count": 34,
   "metadata": {},
   "outputs": [
    {
     "data": {
      "text/plain": [
       "True"
      ]
     },
     "execution_count": 34,
     "metadata": {},
     "output_type": "execute_result"
    }
   ],
   "source": [
    "#5-6 使用reduce與sum來將整數累加至99\n",
    "from functools import reduce\n",
    "from operator import add\n",
    "reduce(add,range(100))\n",
    "\n",
    "sum(range(100))\n",
    "\n",
    "all([1,2])\n",
    "\n",
    "#all(iterable):元素出現0或是’’的時候他是FALSE，在空元素時True\n",
    "#any(iterable):只要遇到空、0、false時是false，但是只要裡面有一個是對的他就是True"
   ]
  },
  {
   "cell_type": "code",
   "execution_count": 1,
   "metadata": {},
   "outputs": [
    {
     "data": {
      "text/plain": [
       "['banana', 'apple', 'fig', 'raspberry', 'strawberry', 'cherry']"
      ]
     },
     "execution_count": 1,
     "metadata": {},
     "output_type": "execute_result"
    }
   ],
   "source": [
    "#5-7使用lambda來將一串單字以反向拼寫順序排序\n",
    "fruits = ['strawberry','fig','apple','cherry','raspberry','banana']\n",
    "\n",
    "sorted(fruits,key=lambda word:word[::-1])"
   ]
  },
  {
   "cell_type": "code",
   "execution_count": 2,
   "metadata": {},
   "outputs": [
    {
     "data": {
      "text/plain": [
       "[True, True, False]"
      ]
     },
     "execution_count": 2,
     "metadata": {},
     "output_type": "execute_result"
    }
   ],
   "source": [
    "#七種可呼叫物件\n",
    "#自訂函式,內建函式,內建方法,方法,類別,類別實例,產生器函式\n",
    "\n",
    "abs,str,13\n",
    "\n",
    "[callable(obj) for obj in (abs,str,13)] \n"
   ]
  },
  {
   "cell_type": "code",
   "execution_count": 9,
   "metadata": {},
   "outputs": [
    {
     "data": {
      "text/plain": [
       "True"
      ]
     },
     "execution_count": 9,
     "metadata": {},
     "output_type": "execute_result"
    }
   ],
   "source": [
    "#5-8 bingocall.py : 一個BingoCage會做一件事:從任意排序串列中取出項目\n",
    "import random \n",
    "\n",
    "class BingoCage:\n",
    "    def __init__(self,items):\n",
    "        self._items = list(items)\n",
    "        random.shuffle(self._items)\n",
    "    \n",
    "    def pick(self):\n",
    "        try:\n",
    "            return self._items.pop()\n",
    "        except IndexError:\n",
    "            raise LookupError('pick from empty BingoCage')\n",
    "            \n",
    "    def __call__(self):\n",
    "        return self.pick()\n",
    "\n",
    "\n",
    "bingo = BingoCage(range(3))\n",
    "bingo.pick()\n",
    "\n",
    "callable(bingo)"
   ]
  },
  {
   "cell_type": "code",
   "execution_count": 14,
   "metadata": {},
   "outputs": [
    {
     "name": "stdout",
     "output_type": "stream",
     "text": [
      "func_set: {'__call__', '__str__', '__format__', '__reduce_ex__', '__get__', '__le__', '__lt__', '__sizeof__', '__getattribute__', '__init__', '__new__', '__defaults__', '__init_subclass__', '__gt__', '__setattr__', '__dict__', '__name__', '__dir__', '__annotations__', '__qualname__', '__class__', '__doc__', '__repr__', '__globals__', '__reduce__', '__closure__', '__eq__', '__delattr__', '__ge__', '__code__', '__subclasshook__', '__module__', '__ne__', '__hash__', '__kwdefaults__'}\n"
     ]
    },
    {
     "data": {
      "text/plain": [
       "['__annotations__',\n",
       " '__call__',\n",
       " '__closure__',\n",
       " '__code__',\n",
       " '__defaults__',\n",
       " '__get__',\n",
       " '__globals__',\n",
       " '__kwdefaults__',\n",
       " '__name__',\n",
       " '__qualname__']"
      ]
     },
     "execution_count": 14,
     "metadata": {},
     "output_type": "execute_result"
    }
   ],
   "source": [
    "#5-9 不會出現在一般實例的函式屬性串列\n",
    "\n",
    "class C :pass\n",
    "obj = C()\n",
    "def func(): pass\n",
    "print(\"func_set:\",set(dir(func)))\n",
    "sorted(set(dir(func))-set(dir(obj)))\n",
    "\n",
    "\n"
   ]
  },
  {
   "cell_type": "code",
   "execution_count": 14,
   "metadata": {},
   "outputs": [
    {
     "name": "stdout",
     "output_type": "stream",
     "text": [
      "<br  />\n",
      "<p>hello</p>\n",
      "<p>world</p>\n",
      "<pid=\"33\">hello</p>\n",
      "<pclass=\"sidebar\">hello</p>\n",
      "<pclass=\"sidebar\">world</p>\n",
      "<img content=\"testing\" />\n"
     ]
    },
    {
     "data": {
      "text/plain": [
       "'<img src=\"sunset.jpg\"title=\"Sunset Boulevard\" />'"
      ]
     },
     "execution_count": 14,
     "metadata": {},
     "output_type": "execute_result"
    }
   ],
   "source": [
    "#5-10 tag 會產生HTML;關鍵字引數cls是一種變通方法,負責傳遞\"class\"屬性,因為在python中,class是一個關鍵字\n",
    "\n",
    "def tag(name,*content,cls=None,**attrs):\n",
    "    \"\"\"generate one or more HTML tags\"\"\"\n",
    "    if cls is not None:\n",
    "        attrs['class'] = cls\n",
    "    if attrs:\n",
    "        attr_str = ''.join('%s=\"%s\"'%(attr,value)\n",
    "                          for attr,value\n",
    "                          in sorted(attrs.items()))\n",
    "    else:\n",
    "        attr_str = ''\n",
    "    if content:\n",
    "        return '\\n'.join('<%s%s>%s</%s>' %\n",
    "                        (name,attr_str,c,name) for c in content)\n",
    "    else:\n",
    "        return '<%s %s />' %(name,attr_str)\n",
    "    \n",
    "print(tag('br'))\n",
    "\n",
    "print(tag('p','hello','world'))\n",
    "\n",
    "print(tag('p','hello',id =33))\n",
    "\n",
    "print(tag('p','hello','world',cls = 'sidebar'))\n",
    "\n",
    "print(tag(content='testing',name='img'))\n",
    "\n",
    "mytag = {'name':'img','title':'Sunset Boulevard','src':'sunset.jpg'}\n",
    "\n",
    "tag(**mytag)\n",
    "\n"
   ]
  },
  {
   "cell_type": "code",
   "execution_count": 3,
   "metadata": {},
   "outputs": [
    {
     "ename": "SyntaxError",
     "evalue": "invalid syntax (<ipython-input-3-306a94b70541>, line 12)",
     "output_type": "error",
     "traceback": [
      "\u001b[0;36m  File \u001b[0;32m\"<ipython-input-3-306a94b70541>\"\u001b[0;36m, line \u001b[0;32m12\u001b[0m\n\u001b[0;31m    curl -i http://localhost:8080/\u001b[0m\n\u001b[0m               ^\u001b[0m\n\u001b[0;31mSyntaxError\u001b[0m\u001b[0;31m:\u001b[0m invalid syntax\n"
     ]
    }
   ],
   "source": [
    "#5-12 Bobo知道hello需要一個person引數,並且從HTTP請求拿取它\n",
    "\n",
    "import bobo\n",
    "\n",
    "@bobo.query('/')\n",
    "def hello(person):\n",
    "    return 'Hello %s!' %person\n",
    "\n",
    "\n",
    "#5-13 如果請求中遺漏函式引數,bobo會發出一個403禁止回應;\n",
    "#curl -i的用途是印出標準輸出的標頭\n",
    "curl -i http://localhost:8080/"
   ]
  },
  {
   "cell_type": "code",
   "execution_count": 9,
   "metadata": {},
   "outputs": [
    {
     "name": "stdout",
     "output_type": "stream",
     "text": [
      "('text', 'max_len', 'end', 'space_before', 'space_after')\n"
     ]
    },
    {
     "data": {
      "text/plain": [
       "2"
      ]
     },
     "execution_count": 9,
     "metadata": {},
     "output_type": "execute_result"
    }
   ],
   "source": [
    "from clip import clip\n",
    "\n",
    "clip.__defaults__\n",
    "\n",
    "clip.__code__ #doctest + ELLIPSIS\n",
    "\n",
    "print(clip.__code__.co_varnames)\n",
    "\n",
    "clip.__code__.co_argcount"
   ]
  },
  {
   "cell_type": "code",
   "execution_count": 14,
   "metadata": {},
   "outputs": [
    {
     "name": "stdout",
     "output_type": "stream",
     "text": [
      "POSITIONAL_OR_KEYWORD : text = <class 'inspect._empty'>\n",
      "POSITIONAL_OR_KEYWORD : max_len = 80\n"
     ]
    }
   ],
   "source": [
    "# 5-17  擷取函式簽章\n",
    "from clip import clip\n",
    "from inspect import signature\n",
    "\n",
    "sig = signature(clip)\n",
    "sig\n",
    "str(sig)\n",
    "\n",
    "for name, param in sig.parameters.items():\n",
    "    print(param.kind,\":\",name,\"=\",param.default)\n",
    "\n"
   ]
  },
  {
   "cell_type": "code",
   "execution_count": null,
   "metadata": {},
   "outputs": [],
   "source": [
    "#5-18 將範例5-10的tag函式的函式簽章指派給一個引數字典\n",
    "\n",
    "from tag  import tag\n",
    "\n",
    "\n",
    "import inspect \n",
    "sig = inspect.signature(tag)\n",
    "\n",
    "\n",
    "my_tag = {'name':'img','title':'Sunset Boulevard',\n",
    "         'src':'sunset.jpg','cls':'framed'}\n",
    "\n",
    "bound_args = sig.bind(**my_tag)\n",
    "print(bound_args)\n",
    "\n",
    "for name,value in bound_args.arguments.items():\n",
    "    print(name,'=',value)\n",
    "del my_tag['name']\n",
    "\n",
    "bound_args = sig.bind(**my_tag)\n",
    "bound_args\n"
   ]
  },
  {
   "cell_type": "code",
   "execution_count": 14,
   "metadata": {},
   "outputs": [
    {
     "name": "stdout",
     "output_type": "stream",
     "text": [
      "sig: (text=<class 'str'>, max_len:'int > 0'=80) -> str\n",
      "<class 'inspect._empty'> : text = <class 'str'>\n",
      "'int > 0'     : max_len = 80\n"
     ]
    }
   ],
   "source": [
    "# %load clip_anno.py\n",
    "#5-19 加上註釋的clip函式\n",
    "\n",
    "from clip_anno import clip\n",
    "clip.__annotations__\n",
    "\n",
    "#5-20 擷取函式簽章的註釋\n",
    "\n",
    "from inspect import signature\n",
    "sig = signature(clip)\n",
    "\n",
    "print('sig:',sig)\n",
    "\n",
    "for param in sig.parameters.values():\n",
    "    #repr()將函數轉化為供解釋器讀取的形式\n",
    "    note = repr(param.annotation).ljust(13)\n",
    "    print(note,':',param.name,'=',param.default)\n",
    "\n"
   ]
  },
  {
   "cell_type": "code",
   "execution_count": 20,
   "metadata": {},
   "outputs": [
    {
     "data": {
      "text/plain": [
       "6"
      ]
     },
     "execution_count": 20,
     "metadata": {},
     "output_type": "execute_result"
    }
   ],
   "source": [
    "# 5-21使用reduce與匿名函式寫成的階乘\n",
    "from functools import reduce\n",
    "\n",
    "def fact(n):\n",
    "    return reduce(lambda a ,b : a*b,range(1,n+1))\n",
    "\n",
    "fact(3)\n",
    "\n",
    "\n",
    "#5-22使用reduce與operator.mul寫成的階乘\n",
    "\n",
    "from operator import mul\n",
    "\n",
    "def fact1(n):\n",
    "    return reduce(mul,range(1,n+1))\n",
    "fact1(3)\n",
    "\n"
   ]
  },
  {
   "cell_type": "code",
   "execution_count": 37,
   "metadata": {},
   "outputs": [
    {
     "name": "stdout",
     "output_type": "stream",
     "text": [
      "('Sao Paulo', 'BR', 19, (-23, -46))\n",
      "('Delhi NCR', 'IN', 21.935, (28, 77))\n",
      "('Tokyo', 'JP', 36.933, (35, 139))\n",
      "('Mexico City', 'MX', 20, (19, -99))\n",
      "('New York', 'US', 20, (40, -74))\n",
      "('JP', 'Tokyo')\n",
      "('IN', 'Delhi NCR')\n",
      "('MX', 'Mexico City')\n",
      "('US', 'New York')\n",
      "('BR', 'Sao Paulo')\n"
     ]
    }
   ],
   "source": [
    "#展示以itemgetter來排序一個tuple串列\n",
    "metro_areas = [\n",
    "    ('Tokyo','JP',36.933,(35,139)),\n",
    "    ('Delhi NCR','IN',21.935,(28,77)),\n",
    "    ('Mexico City','MX',20,(19,-99)),\n",
    "    ('New York','US',20,(40,-74)),\n",
    "    ('Sao Paulo','BR',19,(-23,-46)),   \n",
    "]\n",
    "\n",
    "from operator import itemgetter\n",
    "for city in sorted(metro_areas,key=itemgetter(1)):\n",
    "    print(city)\n",
    "    \n",
    "cc_name = itemgetter(1,0)\n",
    "cc_name\n",
    "\n",
    "for city in metro_areas:\n",
    "    print(cc_name(city))"
   ]
  },
  {
   "cell_type": "code",
   "execution_count": 44,
   "metadata": {},
   "outputs": [
    {
     "data": {
      "text/plain": [
       "[('john', 'A', 15), ('jane', 'B', 12), ('dave', 'B', 10)]"
      ]
     },
     "execution_count": 44,
     "metadata": {},
     "output_type": "execute_result"
    }
   ],
   "source": [
    "from operator import itemgetter\n",
    "\n",
    "A = [1,2,3,4,5]\n",
    "B = {1: 'A', 2: 'B', 3: 'C', 4: 'D', 5: 'E'}\n",
    "C = [\n",
    "    ('john', 'A', 15),\n",
    "    ('jane', 'B', 12),\n",
    "    ('dave', 'B', 10),\n",
    "]\n",
    "sorted(C,key=itemgetter(1))"
   ]
  },
  {
   "cell_type": "code",
   "execution_count": null,
   "metadata": {},
   "outputs": [],
   "source": [
    "#5-24 展示attrgetter 處理之前定義的metro_data具名tuple的方式\n",
    "import operator\n",
    "metro_data = [\n",
    "    ('Tokyo','JP',36.933,(35,139)),\n",
    "    ('Delhi NCR','IN',21.935,(28,77)),\n",
    "    ('Mexico City','MX',20,(19,-99)),\n",
    "    ('New York','US',20,(40,-74)),\n",
    "    ('Sao Paulo','BR',19,(-23,-46)),   \n",
    "]\n",
    "\n",
    "from collections import namedtuple\n",
    "Latlong = namedtuple('Latlong','lat long')\n",
    "Latlong\n",
    "Metropolis = namedtuple('Metropolis','name cc pop coord')\n",
    "Metropolis\n",
    "metro_areas = [Metropolis(name,cc,pop,Latlong(lat,long))\n",
    "              for name,cc,pop,(lat,long) in metro_data]\n",
    "metro_areas\n",
    "\n",
    "metro_areas[0].coord.lat\n",
    "\n",
    "from operator import attrgetter\n",
    "\n",
    "name_lat = attrgetter('name','coord.lat')\n",
    "\n",
    "for city in sorted(metro_areas,key=attrgetter('coord.lat')):\n",
    "    print(name_lat(city))\n",
    "    \n",
    "\n",
    "[name for name in dir(operator) if not name.startswith('_')]\n"
   ]
  },
  {
   "cell_type": "code",
   "execution_count": 24,
   "metadata": {},
   "outputs": [
    {
     "data": {
      "text/plain": [
       "'-T-h-e- -t-i-m-e- -h-a-s- -c-o-m-e-'"
      ]
     },
     "execution_count": 24,
     "metadata": {},
     "output_type": "execute_result"
    }
   ],
   "source": [
    "#5-25 methodcaller示範:第二項測試示範使用其他的引數\n",
    "\n",
    "from operator import methodcaller\n",
    "\n",
    "s = 'The time has come'\n",
    "\n",
    "upcase = methodcaller('upper')\n",
    "\n",
    "upcase(s)\n",
    "\n",
    "hiphenate = methodcaller('replace','','-')\n",
    "hiphenate(s)\n",
    "\n"
   ]
  },
  {
   "cell_type": "code",
   "execution_count": 28,
   "metadata": {},
   "outputs": [
    {
     "data": {
      "text/plain": [
       "[3, 6, 9, 12, 15, 18, 21, 24, 27]"
      ]
     },
     "execution_count": 28,
     "metadata": {},
     "output_type": "execute_result"
    }
   ],
   "source": [
    "#5-26 使用functools.partial來凍結引數\n",
    "from operator import mul\n",
    "from functools import partial\n",
    "\n",
    "triple = partial(mul,3)\n",
    "triple\n",
    "\n",
    "triple(7)\n",
    "list(map(triple,range(1,10)))\n"
   ]
  },
  {
   "cell_type": "code",
   "execution_count": 3,
   "metadata": {},
   "outputs": [
    {
     "data": {
      "text/plain": [
       "'café'"
      ]
     },
     "execution_count": 3,
     "metadata": {},
     "output_type": "execute_result"
    }
   ],
   "source": [
    "#5-27 使用partial來建構一個方便的Unicode正規劃函式\n",
    "\n",
    "import unicodedata, functools\n",
    "\n",
    "#Normalization Form Canonical Composition\n",
    "nfc = functools.partial(unicodedata.normalize,'NFC')\n",
    "s1 = 'cafe'\n",
    "s2 = 'cafe\\u0301'\n",
    "\n",
    "s1 == s2\n",
    "\n",
    "nfc(s1)\n",
    "\n",
    "nfc(s2)"
   ]
  },
  {
   "cell_type": "code",
   "execution_count": 12,
   "metadata": {},
   "outputs": [
    {
     "name": "stdout",
     "output_type": "stream",
     "text": [
      "functools.partial(<function tag at 0x7fe379faee18>, 'img', cls='pic-frame')\n"
     ]
    },
    {
     "data": {
      "text/plain": [
       "{'cls': 'pic-frame'}"
      ]
     },
     "execution_count": 12,
     "metadata": {},
     "output_type": "execute_result"
    }
   ],
   "source": [
    "#5-28 將partial應用在5-10的tag函式\n",
    "\n",
    "from tag import tag\n",
    "\n",
    "tag\n",
    "\n",
    "from functools import partial\n",
    "\n",
    "picture =partial(tag,'img',cls = 'pic-frame')\n",
    "print(picture)\n",
    "picture(src = 'wumpus.jpeg')\n",
    "picture.func\n",
    "picture.args\n",
    "picture.keywords"
   ]
  },
  {
   "cell_type": "code",
   "execution_count": null,
   "metadata": {},
   "outputs": [],
   "source": []
  }
 ],
 "metadata": {
  "kernelspec": {
   "display_name": "Python 3",
   "language": "python",
   "name": "python3"
  },
  "language_info": {
   "codemirror_mode": {
    "name": "ipython",
    "version": 3
   },
   "file_extension": ".py",
   "mimetype": "text/x-python",
   "name": "python",
   "nbconvert_exporter": "python",
   "pygments_lexer": "ipython3",
   "version": "3.6.10"
  }
 },
 "nbformat": 4,
 "nbformat_minor": 4
}
