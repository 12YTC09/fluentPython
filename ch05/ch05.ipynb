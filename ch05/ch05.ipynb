{
 "cells": [
  {
   "cell_type": "code",
   "execution_count": 22,
   "metadata": {},
   "outputs": [
    {
     "name": "stdout",
     "output_type": "stream",
     "text": [
      "1\n",
      "1\n",
      "2\n",
      "6\n",
      "24\n",
      "120\n",
      "720\n",
      "5040\n",
      "40320\n",
      "362880\n",
      "3628800\n"
     ]
    },
    {
     "data": {
      "text/plain": [
       "['fig', 'apple', 'cherry', 'banana', 'raspberry', 'strawberry']"
      ]
     },
     "execution_count": 22,
     "metadata": {},
     "output_type": "execute_result"
    }
   ],
   "source": [
    "#5-1建立並測試函式,接著讀取他的__doc__並檢查他的型態\n",
    "def factorial(n):\n",
    "    '''return n!'''\n",
    "    return 1 if n < 2 else n * factorial(n-1)\n",
    "\n",
    "factorial(42)\n",
    "factorial.__doc__\n",
    "type(factorial)\n",
    "\n",
    "#5-2以不同的名稱來使用函式,並將函式當成引數傳入\n",
    "fact = factorial\n",
    "fact\n",
    "fact(5)\n",
    "\n",
    "A =map(factorial,range(11))  #map()會根據提供的函數對指定序列作映射\n",
    "                             #map()為迭代器\n",
    "for b in A:\n",
    "    print(b)\n",
    "\n",
    "#5-3 按照長度來排序一串單字\n",
    "fruits = ['strawberry','fig','apple','cherry','raspberry','banana']\n",
    "sorted(fruits,key=len)\n"
   ]
  },
  {
   "cell_type": "code",
   "execution_count": 30,
   "metadata": {},
   "outputs": [
    {
     "name": "stdout",
     "output_type": "stream",
     "text": [
      "[1, 1, 2, 6, 24, 120]\n",
      "[1, 1, 2, 6, 24, 120]\n"
     ]
    },
    {
     "data": {
      "text/plain": [
       "[1, 6, 120]"
      ]
     },
     "execution_count": 30,
     "metadata": {},
     "output_type": "execute_result"
    }
   ],
   "source": [
    "def reverse(word):\n",
    "    return word[::-1]\n",
    "reverse(\"testing\")\n",
    "sorted(fruits,key=reverse)\n",
    "\n",
    "#5-5 以map與filter做成的階乘串列,將它與使用串列生成式寫成程式碼比較\n",
    "a = list(map(fact,range(6)))\n",
    "print(a)\n",
    "\n",
    "b = [fact(n) for n in range(6)]\n",
    "print(b)\n",
    "\n",
    "list(map(factorial,filter(lambda n : n %2,range(6))))\n",
    "\n",
    "[factorial(n) for n in range(6) if n%2]"
   ]
  },
  {
   "cell_type": "code",
   "execution_count": 34,
   "metadata": {},
   "outputs": [
    {
     "data": {
      "text/plain": [
       "True"
      ]
     },
     "execution_count": 34,
     "metadata": {},
     "output_type": "execute_result"
    }
   ],
   "source": [
    "#5-6 使用reduce與sum來將整數累加至99\n",
    "from functools import reduce\n",
    "from operator import add\n",
    "reduce(add,range(100))\n",
    "\n",
    "sum(range(100))\n",
    "\n",
    "all([1,2])\n",
    "\n",
    "#all(iterable):元素出現0或是’’的時候他是FALSE，在空元素時True\n",
    "#any(iterable):只要遇到空、0、false時是false，但是只要裡面有一個是對的他就是True"
   ]
  }
 ],
 "metadata": {
  "kernelspec": {
   "display_name": "Python 3",
   "language": "python",
   "name": "python3"
  },
  "language_info": {
   "codemirror_mode": {
    "name": "ipython",
    "version": 3
   },
   "file_extension": ".py",
   "mimetype": "text/x-python",
   "name": "python",
   "nbconvert_exporter": "python",
   "pygments_lexer": "ipython3",
   "version": "3.6.10"
  }
 },
 "nbformat": 4,
 "nbformat_minor": 4
}
