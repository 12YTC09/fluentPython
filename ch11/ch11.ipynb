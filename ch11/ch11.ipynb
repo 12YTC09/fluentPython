{
 "cells": [
  {
   "cell_type": "code",
   "execution_count": null,
   "metadata": {},
   "outputs": [],
   "source": [
    "#11-1 vector2d_v0.py : x與y是公用資料屬性(9.2)\n",
    "class Vector2d:\n",
    "    typecode = 'd'\n",
    "    \n",
    "    def __init__(self,x,y):\n",
    "        self.x = float(x)\n",
    "        self.y = float(y)\n",
    "    def __iter__(self):\n",
    "        return (i for i in (self.x,self.y))\n",
    "    "
   ]
  },
  {
   "cell_type": "code",
   "execution_count": null,
   "metadata": {},
   "outputs": [],
   "source": [
    "#11-2 vector2d_v3.py : 將x與y改寫為特性(9-9)\n",
    "\n",
    "class vector2d:\n",
    "    typecode = 'd'\n",
    "    \n",
    "    def __init__(self,x,y):\n",
    "        self.__x = float(x)\n",
    "        self.__y = float(y)\n",
    "        \n",
    "    @property\n",
    "    def x(self):\n",
    "        return self.__x\n",
    "    @property \n",
    "    def y(self):\n",
    "        return self.__y\n",
    "    \n",
    "    def __iter__(self):\n",
    "        return (i for i in (self.x,self.y))\n"
   ]
  },
  {
   "cell_type": "code",
   "execution_count": null,
   "metadata": {},
   "outputs": [],
   "source": [
    "#11-3 使用__getitem__來實作的部份序列協定:這足以提供項目存取,迭代與in運算子\n",
    "\n",
    "class Foo:\n",
    "    def __getitem__(self,pos):\n",
    "        return range(0,30,10)[pos]\n",
    "    \n",
    "\n"
   ]
  },
  {
   "cell_type": "code",
   "execution_count": null,
   "metadata": {},
   "outputs": [],
   "source": [
    "# 11-4 一個卡片牌組就是一個卡片序列(1.1)\n",
    "\n",
    "\n",
    "import collection\n",
    "\n",
    "Card = collection.namedtuple('Card',['rank,suit'])\n",
    "\n",
    "class FranchDeck:\n",
    "    ranks = [str(n) for n in range(2,11)] + list('JQKA')\n",
    "    suits = 'spades diamonds clubs hearts'.split()\n",
    "     \n",
    "    def __init__(self):\n",
    "        self._cards = [Card(rank,suit) for suit in self.suits for rank in self.ranks]\n",
    "    def __len__(self):\n",
    "        return len(self._cards)\n",
    "    def __getitem__(self,position):\n",
    "        return self._cards[position]\n",
    "    "
   ]
  },
  {
   "cell_type": "code",
   "execution_count": 2,
   "metadata": {},
   "outputs": [
    {
     "data": {
      "text/plain": [
       "[1, 3, 2, 5, 4, 0, 6, 9, 7, 8]"
      ]
     },
     "execution_count": 2,
     "metadata": {},
     "output_type": "execute_result"
    }
   ],
   "source": [
    "from random import shuffle\n",
    "l = list(range(10))\n",
    "shuffle(l)\n",
    "l"
   ]
  },
  {
   "cell_type": "code",
   "execution_count": 8,
   "metadata": {},
   "outputs": [
    {
     "data": {
      "text/plain": [
       "[Card(rank='A', suit='spades'),\n",
       " Card(rank='Q', suit='spades'),\n",
       " Card(rank='2', suit='spades'),\n",
       " Card(rank='J', suit='diamonds'),\n",
       " Card(rank='Q', suit='hearts')]"
      ]
     },
     "execution_count": 8,
     "metadata": {},
     "output_type": "execute_result"
    }
   ],
   "source": [
    "#11-6 Monkey patching FranchDeck來讓它可變,並且與random.shuffle相容\n",
    "\n",
    "import collections\n",
    "\n",
    "Card = collections.namedtuple('Card',['rank','suit'])\n",
    "\n",
    "class FranchDeck:\n",
    "    ranks = [str(n) for n in range(2,11)] + list('JQKA')\n",
    "    suits = 'spades diamonds clubs hearts'.split()\n",
    "     \n",
    "    def __init__(self):\n",
    "        self._cards = [Card(rank,suit) for suit in self.suits for rank in self.ranks]\n",
    "    def __len__(self):\n",
    "        return len(self._cards)\n",
    "    def __getitem__(self,position):\n",
    "        return self._cards[position]\n",
    "    \n",
    "deck = FranchDeck()\n",
    "\n",
    "def set_card(deck,position,card):\n",
    "    deck._cards[position] = card\n",
    "\n",
    "FranchDeck.__setitem__ = set_card\n",
    "\n",
    "shuffle(deck)\n",
    "deck[:5]\n",
    "\n"
   ]
  },
  {
   "cell_type": "code",
   "execution_count": null,
   "metadata": {},
   "outputs": [],
   "source": [
    "# 11-7 使用duck typing 來處理字串或字串的可迭代物件\n",
    "\n"
   ]
  }
 ],
 "metadata": {
  "kernelspec": {
   "display_name": "Python 3",
   "language": "python",
   "name": "python3"
  },
  "language_info": {
   "codemirror_mode": {
    "name": "ipython",
    "version": 3
   },
   "file_extension": ".py",
   "mimetype": "text/x-python",
   "name": "python",
   "nbconvert_exporter": "python",
   "pygments_lexer": "ipython3",
   "version": "3.6.10"
  }
 },
 "nbformat": 4,
 "nbformat_minor": 4
}
