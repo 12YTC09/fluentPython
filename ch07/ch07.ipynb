{
 "cells": [
  {
   "cell_type": "code",
   "execution_count": 5,
   "metadata": {},
   "outputs": [
    {
     "name": "stdout",
     "output_type": "stream",
     "text": [
      "running inner()\n",
      "<function deco.<locals>.inner at 0x7fe8882aa048>\n"
     ]
    }
   ],
   "source": [
    "#修飾器通常會將函式換成不同函式\n",
    "\n",
    "def deco(func):\n",
    "    def inner():\n",
    "        print('running inner()')\n",
    "    return inner\n",
    "\n",
    "@deco\n",
    "def target():\n",
    "    print('running terget')\n",
    "    \n",
    "\n",
    "target()\n",
    "#target已經參考到inner\n",
    "print(target)\n"
   ]
  },
  {
   "cell_type": "code",
   "execution_count": 27,
   "metadata": {},
   "outputs": [
    {
     "name": "stdout",
     "output_type": "stream",
     "text": [
      "running registry(<function f1 at 0x7fe893920bf8>)\n"
     ]
    },
    {
     "data": {
      "text/plain": [
       "<function registration.f1()>"
      ]
     },
     "execution_count": 27,
     "metadata": {},
     "output_type": "execute_result"
    }
   ],
   "source": [
    "import registration\n",
    "\n",
    "\n",
    "#registration.registry\n",
    "#registration.f1()\n",
    "\n",
    "registration.register(registration.f1)"
   ]
  },
  {
   "cell_type": "code",
   "execution_count": 4,
   "metadata": {},
   "outputs": [
    {
     "name": "stdout",
     "output_type": "stream",
     "text": [
      "w\n",
      "6\n"
     ]
    }
   ],
   "source": [
    "# 7-4 讀取一個區域與一個全域變數的函式\n",
    "def f1(a):\n",
    "    print(a)\n",
    "    print(b)\n",
    "    \n",
    "b =6 \n",
    "f1('w')\n",
    "\n",
    "#7-5 變數b是區域變數,因為他在函式的內文中被賦值\n",
    "\n",
    "b=6\n",
    "def f2(a):\n",
    "    print(a)\n",
    "    print(b)\n",
    "    b= 9"
   ]
  },
  {
   "cell_type": "code",
   "execution_count": 8,
   "metadata": {},
   "outputs": [
    {
     "name": "stdout",
     "output_type": "stream",
     "text": [
      "  4           0 LOAD_GLOBAL              0 (print)\n",
      "              2 LOAD_FAST                0 (a)\n",
      "              4 CALL_FUNCTION            1\n",
      "              6 POP_TOP\n",
      "\n",
      "  5           8 LOAD_GLOBAL              0 (print)\n",
      "             10 LOAD_GLOBAL              1 (b)\n",
      "             12 CALL_FUNCTION            1\n",
      "             14 POP_TOP\n",
      "             16 LOAD_CONST               0 (None)\n",
      "             18 RETURN_VALUE\n",
      "----------------------------------------------------------\n",
      " 11           0 LOAD_GLOBAL              0 (print)\n",
      "              2 LOAD_FAST                0 (a)\n",
      "              4 CALL_FUNCTION            1\n",
      "              6 POP_TOP\n",
      "\n",
      " 12           8 LOAD_GLOBAL              0 (print)\n",
      "             10 LOAD_FAST                1 (b)\n",
      "             12 CALL_FUNCTION            1\n",
      "             14 POP_TOP\n",
      "\n",
      " 13          16 LOAD_CONST               1 (9)\n",
      "             18 STORE_FAST               1 (b)\n",
      "             20 LOAD_CONST               0 (None)\n",
      "             22 RETURN_VALUE\n"
     ]
    }
   ],
   "source": [
    "#比較Bytecode\n",
    "#7-6 拆解7-4的1f1函式\n",
    "def f1(a):\n",
    "    print(a)\n",
    "    print(b)\n",
    "\n",
    "from dis import dis\n",
    "dis(f1)\n",
    "\n",
    "def f2(a):\n",
    "    print(a)\n",
    "    print(b)\n",
    "    b= 9\n",
    "print('----------------------------------------------------------')\n",
    "#7-7 拆解7-5的f2函式\n",
    "dis(f2)\n"
   ]
  },
  {
   "cell_type": "code",
   "execution_count": 17,
   "metadata": {},
   "outputs": [
    {
     "ename": "KeyError",
     "evalue": "'avg'",
     "output_type": "error",
     "traceback": [
      "\u001b[0;31m---------------------------------------------------------------------------\u001b[0m",
      "\u001b[0;31mKeyError\u001b[0m                                  Traceback (most recent call last)",
      "\u001b[0;32m<ipython-input-17-271f5e69fa70>\u001b[0m in \u001b[0;36m<module>\u001b[0;34m\u001b[0m\n\u001b[1;32m      8\u001b[0m \u001b[0;32mimport\u001b[0m \u001b[0mos\u001b[0m\u001b[0;34m\u001b[0m\u001b[0;34m\u001b[0m\u001b[0m\n\u001b[1;32m      9\u001b[0m \u001b[0;34m\u001b[0m\u001b[0m\n\u001b[0;32m---> 10\u001b[0;31m \u001b[0mprint\u001b[0m\u001b[0;34m(\u001b[0m\u001b[0mos\u001b[0m\u001b[0;34m.\u001b[0m\u001b[0menviron\u001b[0m\u001b[0;34m[\u001b[0m\u001b[0;34m'avg'\u001b[0m\u001b[0;34m]\u001b[0m\u001b[0;34m)\u001b[0m\u001b[0;34m\u001b[0m\u001b[0;34m\u001b[0m\u001b[0m\n\u001b[0m\u001b[1;32m     11\u001b[0m \u001b[0;34m\u001b[0m\u001b[0m\n\u001b[1;32m     12\u001b[0m \u001b[0mget_ipython\u001b[0m\u001b[0;34m(\u001b[0m\u001b[0;34m)\u001b[0m\u001b[0;34m.\u001b[0m\u001b[0mrun_line_magic\u001b[0m\u001b[0;34m(\u001b[0m\u001b[0;34m'reset'\u001b[0m\u001b[0;34m,\u001b[0m \u001b[0;34m''\u001b[0m\u001b[0;34m)\u001b[0m\u001b[0;34m\u001b[0m\u001b[0;34m\u001b[0m\u001b[0m\n",
      "\u001b[0;32m~/anaconda3/envs/robot310/lib/python3.6/os.py\u001b[0m in \u001b[0;36m__getitem__\u001b[0;34m(self, key)\u001b[0m\n\u001b[1;32m    667\u001b[0m         \u001b[0;32mexcept\u001b[0m \u001b[0mKeyError\u001b[0m\u001b[0;34m:\u001b[0m\u001b[0;34m\u001b[0m\u001b[0;34m\u001b[0m\u001b[0m\n\u001b[1;32m    668\u001b[0m             \u001b[0;31m# raise KeyError with the original key value\u001b[0m\u001b[0;34m\u001b[0m\u001b[0;34m\u001b[0m\u001b[0;34m\u001b[0m\u001b[0m\n\u001b[0;32m--> 669\u001b[0;31m             \u001b[0;32mraise\u001b[0m \u001b[0mKeyError\u001b[0m\u001b[0;34m(\u001b[0m\u001b[0mkey\u001b[0m\u001b[0;34m)\u001b[0m \u001b[0;32mfrom\u001b[0m \u001b[0;32mNone\u001b[0m\u001b[0;34m\u001b[0m\u001b[0;34m\u001b[0m\u001b[0m\n\u001b[0m\u001b[1;32m    670\u001b[0m         \u001b[0;32mreturn\u001b[0m \u001b[0mself\u001b[0m\u001b[0;34m.\u001b[0m\u001b[0mdecodevalue\u001b[0m\u001b[0;34m(\u001b[0m\u001b[0mvalue\u001b[0m\u001b[0;34m)\u001b[0m\u001b[0;34m\u001b[0m\u001b[0;34m\u001b[0m\u001b[0m\n\u001b[1;32m    671\u001b[0m \u001b[0;34m\u001b[0m\u001b[0m\n",
      "\u001b[0;31mKeyError\u001b[0m: 'avg'"
     ]
    }
   ],
   "source": [
    "from average_oo import Average\n",
    "\n",
    "avg = Average()\n",
    "\n",
    "avg(10)\n",
    "\n",
    "\n",
    "import os\n",
    "\n",
    "print(os.environ['avg'])\n",
    "\n",
    "%reset\n"
   ]
  },
  {
   "cell_type": "code",
   "execution_count": 24,
   "metadata": {},
   "outputs": [
    {
     "data": {
      "text/plain": [
       "[10]"
      ]
     },
     "execution_count": 24,
     "metadata": {},
     "output_type": "execute_result"
    }
   ],
   "source": [
    "# %load average.py\n",
    "#\n",
    "#average_oo.py:更高階的移動平均值的計算函式\n",
    "#%reset\n",
    "\n",
    "def make_averager():\n",
    "    series = []\n",
    "\n",
    "    def averager(new_value):\n",
    "        series.append(new_value)\n",
    "        total =sum(series)\n",
    "        return total/len(series)\n",
    "\n",
    "    return averager\n",
    "\n",
    "\n",
    "\n",
    "avg = make_averager()\n",
    "\n",
    "\n",
    "avg(10)\n",
    "\n",
    "#Returns a tuple containing \n",
    "#the names of the local variables (starting with the argument names)\n",
    "avg.__code__.co_varnames\n",
    "\n",
    "\n",
    "#co_freevars:Returns a tuple containing the names of free variables.\n",
    "\n",
    "avg.__code__.co_freevars\n",
    "\n",
    "#7-12 延續7-10\n",
    "\n",
    "avg.__code__.co_freevars\n",
    "\n",
    "avg.__closure__\n",
    "avg.__closure__[0].cell_contents\n",
    "                                                                                                                                                                        "
   ]
  },
  {
   "cell_type": "code",
   "execution_count": 25,
   "metadata": {},
   "outputs": [],
   "source": [
    "def make_averager():\n",
    "    count = 0\n",
    "    total = 0\n",
    "\n",
    "    def averager(new_value):\n",
    "        nonlocal count,total\n",
    "        count += 1\n",
    "        total += new_value\n",
    "        return total/count\n",
    "\n",
    "    return averager\n",
    "\n"
   ]
  },
  {
   "cell_type": "code",
   "execution_count": 1,
   "metadata": {},
   "outputs": [
    {
     "data": {
      "text/plain": [
       "0.00011959699986618944"
      ]
     },
     "execution_count": 1,
     "metadata": {},
     "output_type": "execute_result"
    }
   ],
   "source": [
    "import time\n",
    "\n",
    "to = time.perf_counter()\n",
    "\n",
    "elapsed = time.perf_counter() -to\n",
    "\n",
    "elapsed\n"
   ]
  },
  {
   "cell_type": "code",
   "execution_count": 3,
   "metadata": {},
   "outputs": [
    {
     "name": "stdout",
     "output_type": "stream",
     "text": [
      "**************************************** Calling snooze(.123)\n",
      "[0.12314s] snooze(0.123) -> None\n",
      "**************************************** Calling factorial(6)\n",
      "[0.00000s] factorial(1) -> 1\n",
      "[0.00002s] factorial(2) -> 2\n",
      "[0.00002s] factorial(3) -> 6\n",
      "[0.00003s] factorial(4) -> 24\n",
      "[0.00004s] factorial(5) -> 120\n",
      "[0.00005s] factorial(6) -> 720\n",
      "6!= 720\n"
     ]
    }
   ],
   "source": [
    "#7-16 使用clock修飾器\n",
    "\n",
    "#clockdeco_demo.py\n",
    "import time\n",
    "\n",
    "from clockdeco_demo import clock\n",
    "\n",
    "@clock\n",
    "def snooze(seconds):\n",
    "    time.sleep(seconds)\n",
    "@clock \n",
    "def factorial(n):\n",
    "    return 1 if n < 2 else n*factorial(n-1)\n",
    "\n",
    "print('*'*40,'Calling snooze(.123)')\n",
    "snooze(.123)\n",
    "print('*'*40,'Calling factorial(6)')\n",
    "print('6!=',factorial(6))\n",
    "\n"
   ]
  },
  {
   "cell_type": "code",
   "execution_count": 4,
   "metadata": {},
   "outputs": [
    {
     "ename": "SyntaxError",
     "evalue": "invalid syntax (<ipython-input-4-6588acdea05e>, line 1)",
     "output_type": "error",
     "traceback": [
      "\u001b[0;36m  File \u001b[0;32m\"<ipython-input-4-6588acdea05e>\"\u001b[0;36m, line \u001b[0;32m1\u001b[0m\n\u001b[0;31m    ```\u001b[0m\n\u001b[0m    ^\u001b[0m\n\u001b[0;31mSyntaxError\u001b[0m\u001b[0;31m:\u001b[0m invalid syntax\n"
     ]
    }
   ],
   "source": [
    "'''\n",
    "@clock\n",
    "def factorial(n):\n",
    "    return 1 if n < 2 else n * factorial(n-1)\n",
    "\n",
    "為\n",
    "\n",
    "def factorial(n):\n",
    "    return 1 if n < 2 else n * factorial(n-1)\n",
    "\n",
    "factorial = clock(factorial) \n",
    "'''\n",
    "\n",
    "\n",
    "\n",
    "\n"
   ]
  },
  {
   "cell_type": "code",
   "execution_count": 8,
   "metadata": {},
   "outputs": [
    {
     "data": {
      "text/plain": [
       "'clocked'"
      ]
     },
     "execution_count": 8,
     "metadata": {},
     "output_type": "execute_result"
    }
   ],
   "source": [
    "import clockdemo\n",
    "\n",
    "clockdemo.factorial.__name__\n"
   ]
  },
  {
   "cell_type": "code",
   "execution_count": 9,
   "metadata": {},
   "outputs": [],
   "source": [
    "#7-17 改善後的clock修飾器\n",
    "import time\n",
    "import functools\n",
    "\n",
    "def clock(func):\n",
    "    @functools.wraps(func)\n",
    "    def clocked(*args,**kwargs):\n",
    "        t0 = time.time()\n",
    "        result = func(*args,**kwargs)\n",
    "        elapsed = time.time() -t0\n",
    "        name = func.__neme__\n",
    "        arg_1st = []\n",
    "        if args:\n",
    "            arg_1st.append(', '.join(repr(arg) for arg in args))\n",
    "        if kwargs:\n",
    "            pairs = ['%s=%r' % (k,w) for k,w in sorted(kwargs.items())]\n",
    "            arg_1st.append(', '.join(pairs))\n",
    "        arg_str = ', '.join(arg_1st)\n",
    "        print('[%0.8fs] %s(%s) -> %r'%(elapsed,name,arg_str,result))\n",
    "        return result\n",
    "    return clocked\n"
   ]
  },
  {
   "cell_type": "code",
   "execution_count": 12,
   "metadata": {},
   "outputs": [
    {
     "name": "stdout",
     "output_type": "stream",
     "text": [
      "3\n",
      "共耗時2.000322秒\n"
     ]
    }
   ],
   "source": [
    "import time\n",
    "\n",
    "def add(a,b):\n",
    "    print(a+b)\n",
    "    \n",
    "def timer(func,*args):\n",
    "    start = time.time()\n",
    "    func(*args)\n",
    "    time.sleep(2)\n",
    "    long = time.time()- start\n",
    "    print('共耗時%f秒' %long)\n",
    "    \n",
    "timer(add,1,2)\n",
    "\n",
    "\n",
    "    \n",
    "    "
   ]
  },
  {
   "cell_type": "code",
   "execution_count": 2,
   "metadata": {},
   "outputs": [
    {
     "name": "stdout",
     "output_type": "stream",
     "text": [
      "Calling decorated function\n",
      "Called example function\n"
     ]
    }
   ],
   "source": [
    "from functools import wraps\n",
    "\n",
    "def my_decorator(f):\n",
    "    @wraps(f)\n",
    "    def wrapper(*args,**kwds):\n",
    "        print('Calling decorated function')\n",
    "        return f(*args,**kwds)\n",
    "    return wrapper\n",
    "\n",
    "@my_decorator\n",
    "def example():\n",
    "    \"\"\"Docsting\"\"\"\n",
    "    print('Called example function')\n",
    "   \n",
    "\n",
    "'''\n",
    "def example\n",
    "\n",
    "\n",
    "example = up\n",
    "\n",
    "\n",
    "'''\n",
    "example()"
   ]
  },
  {
   "cell_type": "code",
   "execution_count": 3,
   "metadata": {},
   "outputs": [],
   "source": [
    "#7-19 使用cache,更快速的作法\n",
    "\n",
    "import functools\n",
    "\n",
    "from clockdeco_demo import clock\n",
    "\n",
    "@functools.lru_cache()\n",
    "@clock\n",
    "def fibonacci(n):\n",
    "    if n < 2:\n",
    "        return n;\n",
    "    return (fibonacci(n-2)+fibonacci(n-1))\n",
    "\n",
    "if __name__=='main':\n",
    "    print(fibonacci(6))\n",
    "    \n",
    "    \n",
    "\n"
   ]
  },
  {
   "cell_type": "code",
   "execution_count": 12,
   "metadata": {},
   "outputs": [
    {
     "data": {
      "text/plain": [
       "'<pre>42</pre>'"
      ]
     },
     "execution_count": 12,
     "metadata": {},
     "output_type": "execute_result"
    }
   ],
   "source": [
    "import html \n",
    "\n",
    "def htmlize(obj):\n",
    "    content = html.escape(repr(obj))\n",
    "    return '<pre>{}</pre>'.format(content)\n",
    "\n",
    "htmlize({1,2,3})\n",
    "\n",
    "htmlize(abs)\n",
    "\n",
    "htmlize('Heimlich & Co.\\n- a game')\n",
    "\n",
    "htmlize(42)\n"
   ]
  },
  {
   "cell_type": "code",
   "execution_count": 18,
   "metadata": {},
   "outputs": [
    {
     "ename": "NameError",
     "evalue": "name 'eee' is not defined",
     "output_type": "error",
     "traceback": [
      "\u001b[0;31m---------------------------------------------------------------------------\u001b[0m",
      "\u001b[0;31mNameError\u001b[0m                                 Traceback (most recent call last)",
      "\u001b[0;32m<ipython-input-18-d4372b7deafd>\u001b[0m in \u001b[0;36m<module>\u001b[0;34m\u001b[0m\n\u001b[1;32m     17\u001b[0m     \u001b[0mprint\u001b[0m\u001b[0;34m(\u001b[0m\u001b[0marg\u001b[0m\u001b[0;34m)\u001b[0m\u001b[0;34m\u001b[0m\u001b[0;34m\u001b[0m\u001b[0m\n\u001b[1;32m     18\u001b[0m \u001b[0;34m\u001b[0m\u001b[0m\n\u001b[0;32m---> 19\u001b[0;31m \u001b[0mAA\u001b[0m\u001b[0;34m(\u001b[0m\u001b[0meee\u001b[0m\u001b[0;34m)\u001b[0m\u001b[0;34m\u001b[0m\u001b[0;34m\u001b[0m\u001b[0m\n\u001b[0m\u001b[1;32m     20\u001b[0m \u001b[0;34m\u001b[0m\u001b[0m\n\u001b[1;32m     21\u001b[0m \u001b[0;34m\u001b[0m\u001b[0m\n",
      "\u001b[0;31mNameError\u001b[0m: name 'eee' is not defined"
     ]
    }
   ],
   "source": [
    "#functools.singledispatch\n",
    "#Transform a function into a single-dispatch generic function\n",
    "\n",
    "from functools import singledispatch\n",
    "\n",
    "@singledispatch\n",
    "def fun(arg,verbose=False):\n",
    "    if verbose:\n",
    "        print(\"Let me just say\",end=\" \")\n",
    "    print(arg)\n",
    "    \n",
    "\n",
    "@fun.register\n",
    "def AA(arg: int, verbose=False):\n",
    "    if verbose:\n",
    "        print(\"Strength in numbers, eh?\", end=\" \")\n",
    "    print(arg)\n",
    "\n",
    "@fun.register(complex)\n",
    "def _(arg, verbose=False):\n",
    "    if verbose:\n",
    "        print(\"Better than complicated.\", end=\" \")\n",
    "    print(arg.real, arg.imag)\n",
    "\n",
    "\n",
    "\n",
    "\n",
    "\n"
   ]
  },
  {
   "cell_type": "code",
   "execution_count": null,
   "metadata": {},
   "outputs": [],
   "source": [
    "#7-21 singledispatch 建立一個自訂的htmlize.register,來將許多函式包成一個通用函式 \n",
    "\n",
    "from functools import singledispatch\n",
    "\n",
    "from collections import abc\n"
   ]
  }
 ],
 "metadata": {
  "kernelspec": {
   "display_name": "Python 3",
   "language": "python",
   "name": "python3"
  },
  "language_info": {
   "codemirror_mode": {
    "name": "ipython",
    "version": 3
   },
   "file_extension": ".py",
   "mimetype": "text/x-python",
   "name": "python",
   "nbconvert_exporter": "python",
   "pygments_lexer": "ipython3",
   "version": "3.6.10"
  }
 },
 "nbformat": 4,
 "nbformat_minor": 4
}
