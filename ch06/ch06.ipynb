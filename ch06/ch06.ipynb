{
 "cells": [
  {
   "cell_type": "code",
   "execution_count": 16,
   "metadata": {},
   "outputs": [
    {
     "data": {
      "text/plain": [
       "Point(x='11', y=22)"
      ]
     },
     "execution_count": 16,
     "metadata": {},
     "output_type": "execute_result"
    }
   ],
   "source": [
    "#namedtuple使用法\n",
    "#return a new tuple subclass named typename\n",
    "from collections import namedtuple\n",
    "Point = namedtuple('Point',['x','y'])\n",
    "\n",
    "p = Point('11',y=22)\n",
    "p"
   ]
  },
  {
   "cell_type": "code",
   "execution_count": 8,
   "metadata": {},
   "outputs": [
    {
     "name": "stdout",
     "output_type": "stream",
     "text": [
      "False\n"
     ]
    }
   ],
   "source": [
    "#hasattr()函數用於判斷對象是否包含對應的屬性\n",
    "#hasattr(object,name)\n",
    "\n",
    "class Coordinate:\n",
    "    x = 10\n",
    "    y = -5\n",
    "    z =0\n",
    "\n",
    "point1 = Coordinate()\n",
    "print(hasattr(point1,'a'))\n",
    "    "
   ]
  },
  {
   "cell_type": "code",
   "execution_count": 22,
   "metadata": {},
   "outputs": [
    {
     "data": {
      "text/plain": [
       "<Order total: 42.00 due: 39.90>"
      ]
     },
     "execution_count": 22,
     "metadata": {},
     "output_type": "execute_result"
    }
   ],
   "source": [
    "#6-1 使用可替換的折扣策略來實作Order類別\n",
    "\n",
    "from Order import *\n",
    "\n",
    "joe = Customer('John Dee',0)\n",
    "joe\n",
    "\n",
    "ann = Customer('Ann Smith',1100)\n",
    "ann\n",
    "\n",
    "\n",
    "cart = [LineItem('banana',4,.5),\n",
    "       LineItem('apple',10,1.5),\n",
    "       LineItem('watermellon',5,5.0)]\n",
    "cart\n",
    "\n",
    "cart[0].total()\n",
    "\n",
    "Order(joe,cart,FidelityPromo())\n",
    "Order(ann,cart,FidelityPromo())\n",
    "\n",
    "\n",
    "\n",
    "\n",
    "\n",
    "\n",
    "\n",
    "\n"
   ]
  }
 ],
 "metadata": {
  "kernelspec": {
   "display_name": "Python 3",
   "language": "python",
   "name": "python3"
  },
  "language_info": {
   "codemirror_mode": {
    "name": "ipython",
    "version": 3
   },
   "file_extension": ".py",
   "mimetype": "text/x-python",
   "name": "python",
   "nbconvert_exporter": "python",
   "pygments_lexer": "ipython3",
   "version": "3.6.10"
  }
 },
 "nbformat": 4,
 "nbformat_minor": 4
}
