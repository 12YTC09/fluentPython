{
 "cells": [
  {
   "cell_type": "code",
   "execution_count": 16,
   "metadata": {},
   "outputs": [
    {
     "data": {
      "text/plain": [
       "Point(x='11', y=22)"
      ]
     },
     "execution_count": 16,
     "metadata": {},
     "output_type": "execute_result"
    }
   ],
   "source": [
    "#namedtuple使用法\n",
    "#return a new tuple subclass named typename\n",
    "from collections import namedtuple\n",
    "Point = namedtuple('Point',['x','y'])\n",
    "\n",
    "p = Point('11',y=22)\n",
    "p"
   ]
  },
  {
   "cell_type": "code",
   "execution_count": 8,
   "metadata": {},
   "outputs": [
    {
     "name": "stdout",
     "output_type": "stream",
     "text": [
      "False\n"
     ]
    }
   ],
   "source": [
    "#hasattr()函數用於判斷對象是否包含對應的屬性\n",
    "#hasattr(object,name)\n",
    "\n",
    "class Coordinate:\n",
    "    x = 10\n",
    "    y = -5\n",
    "    z =0\n",
    "\n",
    "point1 = Coordinate()\n",
    "print(hasattr(point1,'a'))\n",
    "    "
   ]
  },
  {
   "cell_type": "code",
   "execution_count": 4,
   "metadata": {},
   "outputs": [
    {
     "name": "stdout",
     "output_type": "stream",
     "text": [
      "I'm eating apple\n"
     ]
    }
   ],
   "source": [
    "import abc\n",
    "\n",
    "class Dog(metaclass=abc.ABCMeta):\n",
    "    @abc.abstractmethod\n",
    "    def eat_apple(self):\n",
    "        return NotImplemented\n",
    "\n",
    "class shiba(Dog):\n",
    "    def eat_apple(self):\n",
    "        print(\"I'm eating apple\".format())\n",
    "        \n",
    "\n",
    "\n",
    "shiba().eat_apple()"
   ]
  },
  {
   "cell_type": "code",
   "execution_count": 22,
   "metadata": {},
   "outputs": [],
   "source": [
    "# %load Order.py\n",
    "\n",
    "#6-1實做Order類別\n",
    "\n",
    "from abc import ABC,abstractmethod\n",
    "from collections import namedtuple\n",
    "\n",
    "Customer = namedtuple('Customer','name fidelity')\n",
    "\n",
    "class LineItem:\n",
    "\n",
    "    def __init__(self,product,quantity,price):\n",
    "        self.product = product\n",
    "        self.quantity = quantity\n",
    "        self.price = price\n",
    "\n",
    "    def total(self):\n",
    "        return self.price * self.quantity\n",
    "\n",
    "class Order: #context\n",
    "    def __init__(self,customer,cart,promotion=None):\n",
    "        self.customer = customer\n",
    "        self.cart = list(cart)\n",
    "        self.promotion = promotion \n",
    "    def total(self):\n",
    "        if not hasattr(self,'__total'):\n",
    "            self.__total = sum(item.total() for item in self.cart)\n",
    "        return self.__total\n",
    "    def due(self):\n",
    "        if self.promotion is None:\n",
    "            discount = 0\n",
    "        else:\n",
    "            discount = self.promotion.discount(self)\n",
    "        return self.total() - discount \n",
    "    def __repr__(self):\n",
    "        fmt = '<Order total: {:.2f} due: {:.2f}>'\n",
    "        return fmt.format(self.total(),self.due())\n",
    "\n",
    "class Promotion(ABC):  #Strategy: 一個抽象基礎類別\n",
    "    @abstractmethod\n",
    "    def discount(self,order):\n",
    "        \"\"\"Return discount as a positive dollar amount\"\"\"\n",
    "\n",
    "class FidelityPromo(Promotion): #第一個Concrete Strategy\n",
    "    \"\"\"5% discount for customers with 1000 or more fidelity points\"\"\"\n",
    "    def discount(self,order):\n",
    "        return order.total() *.05 if order.customer.fidelity >= 1000 else 0\n",
    "\n",
    "class BulkItemPromo(Promotion): #第二個Concrete Strategy\n",
    "    \"\"\"10% discount for each LineItem with 20 or more units\"\"\"\n",
    "    def discount(self,order):\n",
    "        discount = 0\n",
    "        for item in order.cart:\n",
    "            if item.quantity >= 20:\n",
    "                discount += item.total() * .1 \n",
    "        return discount\n",
    "\n",
    "class LargeOrderPromo(Promotion):  #第三個Concrete Strategy\n",
    "    \"\"\"\"\"\"\n",
    "    def discount(self,order):\n",
    "        discount_items = {item.product for item in order.cart}\n",
    "        if len(discount_items) >= 10:\n",
    "            return order.total() * .07\n",
    "        return 0\n",
    "\n",
    "\n",
    "\n",
    "\n",
    "\n",
    "\n",
    "\n",
    "\n",
    "\n",
    "\n",
    "\n",
    "\n"
   ]
  },
  {
   "cell_type": "code",
   "execution_count": 35,
   "metadata": {},
   "outputs": [
    {
     "name": "stdout",
     "output_type": "stream",
     "text": [
      "<__main__.LineItem object at 0x7f6dd81a5160>\n",
      "<__main__.LineItem object at 0x7f6dd80bcbe0>\n",
      "<__main__.LineItem object at 0x7f6dd80d7518>\n",
      "<__main__.LineItem object at 0x7f6dd80bcbe0>\n",
      "<__main__.LineItem object at 0x7f6dd80d7518>\n",
      "<__main__.LineItem object at 0x7f6dd80bcbe0>\n",
      "<__main__.LineItem object at 0x7f6dd80d7518>\n",
      "<__main__.LineItem object at 0x7f6dd80bcbe0>\n",
      "<__main__.LineItem object at 0x7f6dd80d7518>\n",
      "<__main__.LineItem object at 0x7f6dd80bcbe0>\n"
     ]
    },
    {
     "data": {
      "text/plain": [
       "<Order total: 42.00 due: 42.00>"
      ]
     },
     "execution_count": 35,
     "metadata": {},
     "output_type": "execute_result"
    }
   ],
   "source": [
    "#%load Order.py\n",
    "\n",
    "#6-1 使用可替換的折扣策略來實作Order類別\n",
    "\n",
    "#from Order import *\n",
    "\n",
    "joe = Customer('John Dee',0)\n",
    "joe\n",
    "\n",
    "ann = Customer('Ann Smith',1100)\n",
    "ann\n",
    "\n",
    "\n",
    "cart = [LineItem('banana',4,.5),\n",
    "       LineItem('apple',10,1.5),\n",
    "       LineItem('watermellon',5,5.0)]\n",
    "cart\n",
    "\n",
    "cart[0].total()\n",
    "\n",
    "Order(joe,cart,FidelityPromo())\n",
    "Order(ann,cart,FidelityPromo())\n",
    "\n",
    "banana_cart = [LineItem('banana',30,.5),\n",
    "              LineItem('apple',10,1.5)]\n",
    "\n",
    "Order(joe,banana_cart,BulkItemPromo())\n",
    "Order(ann,banana_cart,BulkItemPromo())\n",
    "\n",
    "\n",
    "long_order = [LineItem(str(item_code),1,1.0) for item_code in range(10)]\n",
    "long_order\n",
    "\n",
    "\n",
    "for item_code in range(10):\n",
    "    print(LineItem(str(item_code),1,1.0))\n",
    "    \n",
    "Order(joe,long_order,LargeOrderPromo())\n",
    "\n",
    "Order(joe,cart,LargeOrderPromo())\n",
    "\n",
    "\n"
   ]
  }
 ],
 "metadata": {
  "kernelspec": {
   "display_name": "Python 3",
   "language": "python",
   "name": "python3"
  },
  "language_info": {
   "codemirror_mode": {
    "name": "ipython",
    "version": 3
   },
   "file_extension": ".py",
   "mimetype": "text/x-python",
   "name": "python",
   "nbconvert_exporter": "python",
   "pygments_lexer": "ipython3",
   "version": "3.6.10"
  }
 },
 "nbformat": 4,
 "nbformat_minor": 4
}
