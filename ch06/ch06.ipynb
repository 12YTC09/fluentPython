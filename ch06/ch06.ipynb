{
 "cells": [
  {
   "cell_type": "code",
   "execution_count": 16,
   "metadata": {},
   "outputs": [
    {
     "data": {
      "text/plain": [
       "Point(x='11', y=22)"
      ]
     },
     "execution_count": 16,
     "metadata": {},
     "output_type": "execute_result"
    }
   ],
   "source": [
    "#namedtuple使用法\n",
    "#return a new tuple subclass named typename\n",
    "from collections import namedtuple\n",
    "Point = namedtuple('Point',['x','y'])\n",
    "\n",
    "p = Point('11',y=22)\n",
    "p"
   ]
  },
  {
   "cell_type": "code",
   "execution_count": 8,
   "metadata": {},
   "outputs": [
    {
     "name": "stdout",
     "output_type": "stream",
     "text": [
      "False\n"
     ]
    }
   ],
   "source": [
    "#hasattr()函數用於判斷對象是否包含對應的屬性\n",
    "#hasattr(object,name)\n",
    "\n",
    "class Coordinate:\n",
    "    x = 10\n",
    "    y = -5\n",
    "    z =0\n",
    "\n",
    "point1 = Coordinate()\n",
    "print(hasattr(point1,'a'))\n",
    "    "
   ]
  },
  {
   "cell_type": "code",
   "execution_count": 4,
   "metadata": {},
   "outputs": [
    {
     "name": "stdout",
     "output_type": "stream",
     "text": [
      "I'm eating apple\n"
     ]
    }
   ],
   "source": [
    "import abc\n",
    "\n",
    "class Dog(metaclass=abc.ABCMeta):\n",
    "    @abc.abstractmethod\n",
    "    def eat_apple(self):\n",
    "        return NotImplemented\n",
    "\n",
    "class shiba(Dog):\n",
    "    def eat_apple(self):\n",
    "        print(\"I'm eating apple\".format())\n",
    "        \n",
    "\n",
    "\n",
    "shiba().eat_apple()"
   ]
  },
  {
   "cell_type": "code",
   "execution_count": 3,
   "metadata": {},
   "outputs": [],
   "source": [
    "# %load Order.py\n",
    "\n",
    "#6-1實做Order類別\n",
    "\n",
    "from abc import ABC,abstractmethod\n",
    "from collections import namedtuple\n",
    "\n",
    "Customer = namedtuple('Customer','name fidelity')\n",
    "\n",
    "class LineItem:\n",
    "\n",
    "    def __init__(self,product,quantity,price):\n",
    "        self.product = product\n",
    "        self.quantity = quantity\n",
    "        self.price = price\n",
    "\n",
    "    def total(self):\n",
    "        return self.price * self.quantity\n",
    "\n",
    "class Order: #context\n",
    "    def __init__(self,customer,cart,promotion=None):\n",
    "        self.customer = customer\n",
    "        self.cart = list(cart)\n",
    "        self.promotion = promotion \n",
    "    def total(self):\n",
    "        if not hasattr(self,'__total'):\n",
    "            self.__total = sum(item.total() for item in self.cart)\n",
    "        return self.__total\n",
    "    def due(self):\n",
    "        if self.promotion is None:\n",
    "            discount = 0\n",
    "        else:\n",
    "            discount = self.promotion.discount(self)\n",
    "        return self.total() - discount \n",
    "    def __repr__(self):\n",
    "        fmt = '<Order total: {:.2f} due: {:.2f}>'\n",
    "        return fmt.format(self.total(),self.due())\n",
    "\n",
    "class Promotion(ABC):  #Strategy: 一個抽象基礎類別\n",
    "    @abstractmethod\n",
    "    def discount(self,order):\n",
    "        \"\"\"Return discount as a positive dollar amount\"\"\"\n",
    "\n",
    "class FidelityPromo(Promotion): #第一個Concrete Strategy\n",
    "    \"\"\"5% discount for customers with 1000 or more fidelity points\"\"\"\n",
    "    def discount(self,order):\n",
    "        return order.total() *.05 if order.customer.fidelity >= 1000 else 0\n",
    "\n",
    "class BulkItemPromo(Promotion): #第二個Concrete Strategy\n",
    "    \"\"\"10% discount for each LineItem with 20 or more units\"\"\"\n",
    "    def discount(self,order):\n",
    "        discount = 0\n",
    "        for item in order.cart:\n",
    "            if item.quantity >= 20:\n",
    "                discount += item.total() * .1 \n",
    "        return discount\n",
    "\n",
    "class LargeOrderPromo(Promotion):  #第三個Concrete Strategy\n",
    "    \"\"\"\"\"\"\n",
    "    def discount(self,order):\n",
    "        discount_items = {item.product for item in order.cart}\n",
    "        if len(discount_items) >= 10:\n",
    "            return order.total() * .07\n",
    "        return 0\n",
    "\n",
    "\n",
    "\n",
    "\n",
    "\n",
    "\n",
    "\n",
    "\n",
    "\n",
    "\n",
    "\n",
    "\n"
   ]
  },
  {
   "cell_type": "code",
   "execution_count": 4,
   "metadata": {},
   "outputs": [
    {
     "name": "stdout",
     "output_type": "stream",
     "text": [
      "<__main__.LineItem object at 0x7f925d724358>\n",
      "<__main__.LineItem object at 0x7f925d724358>\n",
      "<__main__.LineItem object at 0x7f925d724358>\n",
      "<__main__.LineItem object at 0x7f925d724358>\n",
      "<__main__.LineItem object at 0x7f925d724358>\n",
      "<__main__.LineItem object at 0x7f925d724358>\n",
      "<__main__.LineItem object at 0x7f925d724358>\n",
      "<__main__.LineItem object at 0x7f925d724358>\n",
      "<__main__.LineItem object at 0x7f925d724358>\n",
      "<__main__.LineItem object at 0x7f925d724358>\n"
     ]
    },
    {
     "data": {
      "text/plain": [
       "<Order total: 42.00 due: 42.00>"
      ]
     },
     "execution_count": 4,
     "metadata": {},
     "output_type": "execute_result"
    }
   ],
   "source": [
    "#%load Order.py\n",
    "\n",
    "#6-1 使用可替換的折扣策略來實作Order類別\n",
    "\n",
    "#from Order import *\n",
    "\n",
    "joe = Customer('John Dee',0)\n",
    "joe\n",
    "\n",
    "ann = Customer('Ann Smith',1100)\n",
    "ann\n",
    "\n",
    "\n",
    "cart = [LineItem('banana',4,.5),\n",
    "       LineItem('apple',10,1.5),\n",
    "       LineItem('watermellon',5,5.0)]\n",
    "cart\n",
    "\n",
    "cart[0].total()\n",
    "\n",
    "Order(joe,cart,FidelityPromo())\n",
    "Order(ann,cart,FidelityPromo())\n",
    "\n",
    "banana_cart = [LineItem('banana',30,.5),\n",
    "              LineItem('apple',10,1.5)]\n",
    "\n",
    "Order(joe,banana_cart,BulkItemPromo())\n",
    "Order(ann,banana_cart,BulkItemPromo())\n",
    "\n",
    "\n",
    "long_order = [LineItem(str(item_code),1,1.0) for item_code in range(10)]\n",
    "long_order\n",
    "\n",
    "\n",
    "for item_code in range(10):\n",
    "    print(LineItem(str(item_code),1,1.0))\n",
    "    \n",
    "Order(joe,long_order,LargeOrderPromo())\n",
    "\n",
    "Order(joe,cart,LargeOrderPromo())\n",
    "\n",
    "\n"
   ]
  },
  {
   "cell_type": "code",
   "execution_count": null,
   "metadata": {},
   "outputs": [],
   "source": [
    "from Order_FP import *\n",
    "\n",
    "joe = Customer('John Dee',0)\n",
    "print(joe)\n",
    "\n",
    "ann = Customer('Ann Smith',1100)\n",
    "print(ann)\n",
    "\n",
    "\n",
    "cart = [LineItem('banana',4,.5),\n",
    "       LineItem('apple',10,1.5),\n",
    "       LineItem('watermellon',5,5.0)]\n",
    "#cart\n",
    "\n",
    "cart[0].total()\n",
    "\n",
    "Order(joe,cart,FidelityPromo())\n",
    "#Order(ann,cart,FidelityPromo())\n",
    "\n",
    "#banana_cart = [LineItem('banana',30,.5),\n",
    "#              LineItem('apple',10,1.5)]\n",
    "\n",
    "#Order(joe,banana_cart,BulkItemPromo())\n",
    "#Order(ann,banana_cart,BulkItemPromo())\n",
    "\n",
    "\n",
    "long_order = [LineItem(str(item_code),1,1.0) for item_code in range(10)]\n",
    "#long_order\n",
    "\n",
    "\n",
    "#for item_code in range(10):\n",
    "#    print(LineItem(str(item_code),1,1.0))\n",
    "    \n",
    "#Order(joe,long_order,LargeOrderPromo())\n",
    "\n",
    "#Order(joe,cart,LargeOrderPromo())\n",
    "\n",
    "\n"
   ]
  },
  {
   "cell_type": "code",
   "execution_count": 8,
   "metadata": {},
   "outputs": [
    {
     "name": "stdout",
     "output_type": "stream",
     "text": [
      "['0', '1', '2', '3', '4', '5', '6', '7', '8', '9']\n"
     ]
    },
    {
     "data": {
      "text/plain": [
       "list"
      ]
     },
     "execution_count": 8,
     "metadata": {},
     "output_type": "execute_result"
    }
   ],
   "source": [
    "a = [str(item_code) for item_code in range(10)]\n",
    "print(a)\n",
    "type(a)"
   ]
  },
  {
   "cell_type": "code",
   "execution_count": 9,
   "metadata": {},
   "outputs": [
    {
     "name": "stdout",
     "output_type": "stream",
     "text": [
      "Customer(name='John Dee', fidelity=0)\n",
      "Customer(name='Ann Smith', fidelity=1100)\n",
      "<Order total: 42.00 due: 42.00>\n",
      "<Order total: 42.00 due: 21.00>\n",
      "<Order total: 30.00 due: 28.50>\n"
     ]
    },
    {
     "data": {
      "text/plain": [
       "<Order total: 10.00 due: 9.30>"
      ]
     },
     "execution_count": 9,
     "metadata": {},
     "output_type": "execute_result"
    }
   ],
   "source": [
    "from Order_FP import *\n",
    "joe = Customer('John Dee',0)\n",
    "print(joe)\n",
    "\n",
    "ann = Customer('Ann Smith',1100)\n",
    "print(ann)\n",
    "\n",
    "\n",
    "cart = [LineItem('banana',4,.5),\n",
    "       LineItem('apple',10,1.5),\n",
    "       LineItem('watermellon',5,5.0)]\n",
    "\n",
    "print(order(joe,cart,fidelity_promo))\n",
    "print(order(ann,cart,fidelity_promo))\n",
    "\n",
    "banana_cart = [LineItem('banana',30,.5),\n",
    "               LineItem('apple',10,1.5)]\n",
    "\n",
    "print(order(joe,banana_cart,bulk_item_promo))\n",
    "\n",
    "long_order = [LineItem(str(item_code),1,1.0) for item_code in range(10)]\n",
    "\n",
    "order(joe,long_order,large_order_promo)\n",
    "\n",
    "\n",
    "\n",
    "\n"
   ]
  },
  {
   "cell_type": "code",
   "execution_count": 21,
   "metadata": {},
   "outputs": [
    {
     "ename": "NameError",
     "evalue": "name 'promotions' is not defined",
     "output_type": "error",
     "traceback": [
      "\u001b[0;31m---------------------------------------------------------------------------\u001b[0m",
      "\u001b[0;31mNameError\u001b[0m                                 Traceback (most recent call last)",
      "\u001b[0;32m<ipython-input-21-840ff0fa0b9f>\u001b[0m in \u001b[0;36m<module>\u001b[0;34m\u001b[0m\n\u001b[1;32m     12\u001b[0m \u001b[0;32mimport\u001b[0m \u001b[0minspect\u001b[0m\u001b[0;34m\u001b[0m\u001b[0;34m\u001b[0m\u001b[0m\n\u001b[1;32m     13\u001b[0m \u001b[0;34m\u001b[0m\u001b[0m\n\u001b[0;32m---> 14\u001b[0;31m promos = [func for name , func in inspect.getmembers(promotions,\n\u001b[0m\u001b[1;32m     15\u001b[0m          inspect.isfunction)]\n\u001b[1;32m     16\u001b[0m \u001b[0;34m\u001b[0m\u001b[0m\n",
      "\u001b[0;31mNameError\u001b[0m: name 'promotions' is not defined"
     ]
    }
   ],
   "source": [
    "#globals()\n",
    "\n",
    "#6-7 這個promos串列是用模組全域命名空間的自我檢查建構的\n",
    "\n",
    "promos=[globals()[name] for name in globals() if name.endswith('__promo')\n",
    "       and name != 'best_promo']\n",
    "\n",
    "\n",
    "    \n",
    "#6-8 promos清單是用新的promotions模組的自我檢查建構的\n",
    "\n",
    "import inspect\n",
    "\n",
    "promos = [func for name , func in inspect.getmembers(promotions,\n",
    "         inspect.isfunction)]\n",
    "\n",
    "promos\n"
   ]
  },
  {
   "cell_type": "code",
   "execution_count": null,
   "metadata": {},
   "outputs": [],
   "source": [
    "#每一個MarcoCommand實例內部都有一個\n",
    "class MacroCommand:\n",
    "    '''A command that executes a list of commands'''\n",
    "    \n",
    "    def __init__(self,commands):\n",
    "        self.commands = list(commands)\n",
    "    def __call__(self):\n",
    "        for command in self.commands:\n",
    "            command()\n",
    "            "
   ]
  }
 ],
 "metadata": {
  "kernelspec": {
   "display_name": "Python 3",
   "language": "python",
   "name": "python3"
  },
  "language_info": {
   "codemirror_mode": {
    "name": "ipython",
    "version": 3
   },
   "file_extension": ".py",
   "mimetype": "text/x-python",
   "name": "python",
   "nbconvert_exporter": "python",
   "pygments_lexer": "ipython3",
   "version": "3.6.10"
  }
 },
 "nbformat": 4,
 "nbformat_minor": 4
}
